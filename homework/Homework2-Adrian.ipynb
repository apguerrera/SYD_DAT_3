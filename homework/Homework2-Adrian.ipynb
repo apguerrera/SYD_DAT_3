{
 "cells": [
  {
   "cell_type": "markdown",
   "metadata": {},
   "source": [
    "# SYD DAT 3 Lab 2 - Visualisation and Regression\n",
    "\n",
    "## Homework - Due 8th January 2016\n",
    "\n",
    "#### Setup\n",
    "* Signup for an AWS account and redeem the credits from GA\n",
    "\n",
    "#### Communication\n",
    "* Imagine you are trying to explain to someone what Linear Regression is - but they have no programming/maths experience? How would you explain the overall process, what a p-value means and what R-Squared means?\n",
    "* Write a review of one Small Multiple project of your choice. Include a link, what you thought the purpose of the visualisation was and what you discovered as a result. Is there anything you would add to it or like to see?\n",
    "\n",
    "#### Machine Learning\n",
    "* Read chapters 3 and 6 of Introduction to Statistical Learning\n",
    "* Describe 3 ways we can select what features to use in a model\n",
    "* Complete the first 3 exercises from chapter 3 in Python\n",
    "\n",
    "#### Course Project\n",
    "* Draft/Sketch on paper (or wireframe) some data visualisations that would be useful for you to explore your data set\n",
    "* Is there any regresion techniques you could use in your project? Write them down and what you think you would get out of it.\n",
    "\n",
    "**Instructions: copy this file and append your name in the filename, e.g. Homework2_ian_hansel.ipynb.\n",
    "Then commit this in your local repository, push it to your github account and create a pull request so I can see your work. Remeber if you get stuck to look at the slides going over Fork, Clone, Commit, Push and Pull request.**"
   ]
  },
  {
   "cell_type": "markdown",
   "metadata": {},
   "source": [
    "## AWS Setup \n",
    "\n",
    "Done\n",
    "\n",
    "## Communication\n",
    "\n",
    "#### 1. Explain what Linear Regression is.\n",
    "\n",
    "Linear regression is a way to build a relationship between two or more variables using a line of best fit. It is genrally in the form Y=B0+B1.X1+e where Y is the predicted value, B0 is the intercept, X1 is the independant variable and B1 the corresponding slope\n",
    "\n",
    "These coefficients are determined by reducing the residual sum of squares (RSS) which is the sum of the square errors. To determine how well the model is able to predict, the RSS is converted to R-Squared ranging from 0-1 and readily able to determine fit. The closer to 1, the better the model will predict. If you have multiple independant variables, then the calculated p-value for each variable will determine significanc, ranging from 0-1, with the lowest value being the most significant and value exceeding 0.5 not being relevant.  (p<0.05 being statistically signicant) \n",
    "\n",
    "#### 2. Small Multiples - Immigrants Birthplace Map\n",
    "\n",
    "Really interesting data visulaisation project, using census data overlayed on map images for Sydney and Melbourne \n",
    "\n",
    "http://small.mu/work#/work/immigrants-birthplace-map/\n",
    "\n",
    "One of the things that stood out for this particular work was the way the visualisation evoked a personalised response from what was being displayed. It confirmed or disproved instantly some of the assumptions i had growing up in Sydney in an interesting way. It was also very insightful when viewing other cities other than my own to get an overview of the cutural mix of the area and how that translates to the culture and overall experience of that city. The visualisation was instantly understandable and clear to read and manipulate to gain further insights. "
   ]
  },
  {
   "cell_type": "markdown",
   "metadata": {
    "collapsed": true
   },
   "source": [
    "## Machine Learning - Exercise 3.7\n",
    "#### 1. Describe the null hypotheses to which the p-values given in Table 3.4 correspond. \n",
    "Explain what conclusions you can draw based on these\n",
    "p-values. Your explanation should be phrased in terms of sales, TV,\n",
    "radio, and newspaper, rather than in terms of the coefficients of the\n",
    "linear model.\n",
    "\n"
   ]
  },
  {
   "cell_type": "markdown",
   "metadata": {
    "collapsed": true
   },
   "source": [
    "Null hypothesis - Sales is not affected by TV, radio and newspaper sales. \n",
    "H(0) : B1 = 0, B2 = 0, B3 = 0\n",
    "\n",
    "For every $1000 spent on advertising, there is a baseline of 2939 sales made, with an additional 46 sales when spent on Tv advertising, 189 sales when spent on radio and no statisitcally significant result when spent on newspaper sales. This is show with the intercept, TV and radio p-values less than 0.5 (<0.0001) and newspapers greater than 0.5 (0.8599)"
   ]
  },
  {
   "cell_type": "markdown",
   "metadata": {},
   "source": [
    "#### 2. Carefully explain the differences between the KNN classifier and KNN regression methods."
   ]
  },
  {
   "cell_type": "markdown",
   "metadata": {},
   "source": [
    "K nearest neighbors regression (KNN Regression) uses the training set of data to make an approximation for f(x) depending on the neighbourhood of data, where as KNN classifier would use a similar technique of using a training set, however would calculate a probability model for f(x) and make a classification on the class of x(i) depending on its neighbourhood.  "
   ]
  },
  {
   "cell_type": "markdown",
   "metadata": {},
   "source": [
    "#### 3. Suppose we have a data set with five predictors,\n",
    "X1 =GPA, X2 = IQ,\n",
    "X3 = Gender (1 for Female and 0 forMale), X4 = Interaction between\n",
    "GPA and IQ, and X5 = Interaction between GPA and Gender. The\n",
    "response is starting salary after graduation (in thousands of dollars).\n",
    "Suppose we use least squares to fit the model, and get ˆβ0 = 50, ˆβ1 =\n",
    "20, ˆβ2 = 0.07, ˆβ3 = 35, ˆβ4 = 0.01, ˆβ5 = −10.\n",
    "\n",
    "(a) Which answer is correct, and why?\n",
    "\n",
    "i. For a fixed value of IQ and GPA, males earn more on average\n",
    "than females.\n",
    "\n",
    "ii. For a fixed value of IQ and GPA, females earn more on\n",
    "average than males.\n",
    "\n",
    "iii. For a fixed value of IQ and GPA, males earn more on average\n",
    "than females provided that the GPA is high enough.\n",
    "\n",
    "iv. For a fixed value of IQ and GPA, females earn more on\n",
    "average than males provided that the GPA is high enough.\n",
    "\n",
    "(b). Predict the salary of a female with IQ of 110 and a GPA of 4.0.\n",
    "\n",
    "(c). True or false: Since the coefficient for the GPA/IQ interaction\n",
    "term is very small, there is very little evidence of an interaction\n",
    "effect. Justify your answer.\n"
   ]
  },
  {
   "cell_type": "code",
   "execution_count": 54,
   "metadata": {
    "collapsed": false
   },
   "outputs": [
    {
     "data": {
      "text/plain": [
       "133.72"
      ]
     },
     "execution_count": 54,
     "metadata": {},
     "output_type": "execute_result"
    }
   ],
   "source": [
    "# Coefficients\n",
    "B0 = 50\n",
    "B1 = 20\n",
    "B2 = 0.07\n",
    "B3 = 35\n",
    "B4 = 0.01\n",
    "B5 = -10\n",
    "\n",
    "# test variables\n",
    "X1 = 3.6\n",
    "X2 = 120\n",
    "X3 = 1\n",
    "\n",
    "# Map out the equation including interations \n",
    "Y = B0 + B1*X1 + B2*X2 + B3*X3 + B4*X1*X2 + B5*X1*X3\n",
    "\n",
    "# Reaarange in terms of Gender\n",
    "Y = X1*(B1+B4*X2) + X2*B2 + X3*(B3+B5*X1) + B0\n",
    "Y \n"
   ]
  },
  {
   "cell_type": "code",
   "execution_count": 55,
   "metadata": {
    "collapsed": false
   },
   "outputs": [
    {
     "data": {
      "text/plain": [
       "35"
      ]
     },
     "execution_count": 55,
     "metadata": {},
     "output_type": "execute_result"
    }
   ],
   "source": [
    "# Lowest gender coefficent for GPA = 0\n",
    "X1 = 0\n",
    "gender_coef = B3 + B5*X1\n",
    "gender_coef"
   ]
  },
  {
   "cell_type": "code",
   "execution_count": 56,
   "metadata": {
    "collapsed": false
   },
   "outputs": [
    {
     "data": {
      "text/plain": [
       "-5"
      ]
     },
     "execution_count": 56,
     "metadata": {},
     "output_type": "execute_result"
    }
   ],
   "source": [
    "# Female coef for high GPA\n",
    "X1 = 4\n",
    "gender_coef = B3 + B5*X1\n",
    "gender_coef"
   ]
  },
  {
   "cell_type": "markdown",
   "metadata": {},
   "source": [
    "#### Question 3a \n",
    "Answer is c)\n",
    "\n",
    "For high GPA values (>3.5), males earn more on average than females as the gender coefficient for females is negative. "
   ]
  },
  {
   "cell_type": "markdown",
   "metadata": {},
   "source": [
    "#### Question 3b"
   ]
  },
  {
   "cell_type": "code",
   "execution_count": 57,
   "metadata": {
    "collapsed": false
   },
   "outputs": [
    {
     "data": {
      "text/plain": [
       "137.1"
      ]
     },
     "execution_count": 57,
     "metadata": {},
     "output_type": "execute_result"
    }
   ],
   "source": [
    "B0 = 50\n",
    "B1 = 20\n",
    "B2 = 0.07\n",
    "B3 = 35\n",
    "B4 = 0.01\n",
    "B5 = -10\n",
    "\n",
    "X1 = 4.0\n",
    "X2 = 110\n",
    "X3 = 1\n",
    "\n",
    "Y = B0 + B1*X1 + B2*X2 + B3*X3 + B4*X1*X2 + B5*X1*X3\n",
    "Y"
   ]
  },
  {
   "cell_type": "markdown",
   "metadata": {
    "collapsed": true
   },
   "source": [
    "## Course Project - Airbnb\n",
    "#### Data Visualisations\n",
    "* Draft/Sketch on paper (or wireframe) some data visualisations that would be useful for you to explore your data set\n",
    "\n",
    "Map of sydney with rental yields highlighted in different colours.\n",
    "\n",
    "http://www.realestate.com.au/invest/house-in-sydney,+nsw+2000?shd=annual_growth&tab=for_sale\n",
    "\n",
    "Use of airbnb data to display data analysis relevant to Sydney\n",
    "\n",
    "http://www.airdna.co/sample/au/sydney\n",
    "\n",
    "Basic visulisation of the raw Sydney airbnb dataset and averages. \n",
    "\n",
    "http://insideairbnb.com/sydney/\n",
    "\n",
    "Dataset for airbnb listings Oct 2015, listings, reviews, geolocation and pricing\n",
    "\n",
    "http://insideairbnb.com/get-the-data.html\n",
    "\n",
    "\n",
    "#### Wireframe\n",
    "\n",
    "[project wireframe drawing](https://drive.google.com/file/d/0BwVnvWdw8XagRmR6bm1kQ2tlZk0/view?usp=sharing)\n",
    "\n",
    "\n",
    "\n",
    "#### Regression Techniques\n",
    "* Are there any regresion techniques you could use in your project? Write them down and what you think you would get out of it.\n",
    "\n",
    "Linear Regression to build a model relating parameters to rental yields and profitability\n",
    "\n",
    "Logistical Regression to classify various property types and geolocations\n",
    "\n"
   ]
  },
  {
   "cell_type": "code",
   "execution_count": null,
   "metadata": {
    "collapsed": true
   },
   "outputs": [],
   "source": []
  }
 ],
 "metadata": {
  "kernelspec": {
   "display_name": "Python 2",
   "language": "python",
   "name": "python2"
  },
  "language_info": {
   "codemirror_mode": {
    "name": "ipython",
    "version": 2
   },
   "file_extension": ".py",
   "mimetype": "text/x-python",
   "name": "python",
   "nbconvert_exporter": "python",
   "pygments_lexer": "ipython2",
   "version": "2.7.11"
  }
 },
 "nbformat": 4,
 "nbformat_minor": 0
}
