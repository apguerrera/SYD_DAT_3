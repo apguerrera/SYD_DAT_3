{
 "cells": [
  {
   "cell_type": "markdown",
   "metadata": {},
   "source": [
    "# SYD DAT 3 Lab 1 - Git and Markdown\n",
    "\n",
    "##Homework:\n",
    "\n",
    "#### Setup\n",
    "* Resolve any installation issues before next class.\n",
    "* Make sure you have a github profile and created a repo called \"SYD_DAT_3\"\n",
    "* Clone the class repo (this one!)\n",
    "* Review this [code](../labs/Week 1/00_python_refresher.py) for a recap of some Python basics.\n",
    "\n",
    "#### Communication\n",
    "* Read [Analyzing the Analyzers](http://cdn.oreillystatic.com/oreilly/radarreport/0636920029014/Analyzing_the_Analyzers.pdf) for a useful look at the different types of data scientists. Write down 5 key points you took away from the article\n",
    "* Read about some [Markdown Techniques](http://daringfireball.net/projects/markdown/syntax)\n",
    "* Write a summary of 2 chapters of [The Data Science Handbook](http://www.thedatasciencehandbook.com/) in Markdown and submit a pull request in the Lab Directory\n",
    "\n",
    "#### Programming\n",
    "* Complete the lab from class and the additional Exercise below\n",
    "\n",
    "#### Course Project\n",
    "* Come up with 5 different ideas for your course project. For each one list:\n",
    "  * Overview of your idea\n",
    "  * What data you will use\n",
    "  * What the outcome is that you are trying to achieve\n",
    "  * Any ideas of modelling techniques it may involve\n",
    "\n",
    "**Instructions: copy this file and append your name in the filename, e.g. Homework1_ian_hansel.ipynb.\n",
    "Then commit this in your local repository, push it to your github account and create a pull request so I can see your work. Remeber if you get stuck to look at the slides going over Fork, Clone, Commit, Push and Pull request.**"
   ]
  },
  {
   "cell_type": "markdown",
   "metadata": {},
   "source": [
    "# Project idea 1 : Sales Forecast\n",
    "\n",
    "* Overview of your idea\n",
    "    \n",
    "    Try and predict future sales\n",
    "    \n",
    "\n",
    "* What data you will use\n",
    "\n",
    "    Data from work + maybe some additional external data weather etc.\n",
    "    \n",
    "\n",
    "* What the outcome is that you are trying to achieve\n",
    "\n",
    "\n",
    "    The purpose is to manage future cashflows of sales with outflows of purchases.\n",
    "    \n",
    "\n",
    "* Any ideas of modelling techniques it may involve\n",
    "\n",
    "\n",
    "    Linear regression, Ensemble models\n"
   ]
  },
  {
   "cell_type": "markdown",
   "metadata": {},
   "source": [
    "# Project idea 2 : Predict which promo a customer will purchase\n",
    "\n",
    "* Overview of your idea\n",
    "\n",
    "    Given a customer database predict which customer will purchase after receiving a particular promotion\n",
    "\n",
    "\n",
    "* What data you will use\n",
    "    \n",
    "    Maybe Kaggle Data\n",
    "\n",
    "\n",
    "* What the outcome is that you are trying to achieve\n",
    "    \n",
    "    The purpose is to focus on sending promotions to customers that will actually purchase.\n",
    "\n",
    "\n",
    "* Any ideas of modelling techniques it may involve\n",
    "    \n",
    "    Logisitc regression, SVC, Random forest, other ensemble methods"
   ]
  },
  {
   "cell_type": "markdown",
   "metadata": {},
   "source": [
    "# Project idea 3 : Sentiment Analysis\n",
    "\n",
    "* Overview of your idea\n",
    "\n",
    "    Given a current event determine the attitude of the audience\n",
    "\n",
    "* What data you will use\n",
    "\n",
    "    Twitter,facebook API's on event etc Sporting,financial\n",
    "\n",
    "\n",
    "* What the outcome is that you are trying to achieve\n",
    "\n",
    "    \n",
    "    Find out whether there is a positive or negative response to a particular event\n",
    "\n",
    "\n",
    "* Any ideas of modelling techniques it may involve\n",
    "    \n",
    "    Bag of words"
   ]
  },
  {
   "cell_type": "markdown",
   "metadata": {},
   "source": [
    "# Project idea 4 : \n",
    "\n",
    "* Overview of your idea\n",
    "\n",
    "\n",
    "* What data you will use\n",
    "\n",
    "\n",
    "* What the outcome is that you are trying to achieve\n",
    "\n",
    "\n",
    "* Any ideas of modelling techniques it may involve\n"
   ]
  },
  {
   "cell_type": "markdown",
   "metadata": {},
   "source": [
    "## Exercise Four - Movie Lens Data"
   ]
  },
  {
   "cell_type": "code",
   "execution_count": 5,
   "metadata": {
    "collapsed": false
   },
   "outputs": [
    {
     "name": "stdout",
     "output_type": "stream",
     "text": [
      "C:\\Users\\Jared Chung\\Desktop\\SYD_DAT_3\\homework\n"
     ]
    }
   ],
   "source": [
    "cd homework"
   ]
  },
  {
   "cell_type": "code",
   "execution_count": null,
   "metadata": {
    "collapsed": true
   },
   "outputs": [],
   "source": [
    "# for each occupation in 'users', count the number of occurrences\n",
    "\n",
    "# for each occupation, calculate the mean age\n",
    "\n",
    "# for each occupation, calculate the minimum and maximum ages\n",
    "\n",
    "# for each combination of occupation and gender, calculate the mean age\n",
    "\n",
    "# randomly sample a DataFrame\n",
    "\n",
    "# detect duplicate users"
   ]
  }
 ],
 "metadata": {
  "kernelspec": {
   "display_name": "Python 3",
   "language": "python",
   "name": "python3"
  },
  "language_info": {
   "codemirror_mode": {
    "name": "ipython",
    "version": 3
   },
   "file_extension": ".py",
   "mimetype": "text/x-python",
   "name": "python",
   "nbconvert_exporter": "python",
   "pygments_lexer": "ipython3",
   "version": "3.4.3"
  }
 },
 "nbformat": 4,
 "nbformat_minor": 0
}
