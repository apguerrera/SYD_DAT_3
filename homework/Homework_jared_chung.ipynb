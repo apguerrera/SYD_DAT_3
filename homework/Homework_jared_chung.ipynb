{
 "cells": [
  {
   "cell_type": "markdown",
   "metadata": {},
   "source": [
    "# SYD DAT 3 Lab 1 - Git and Markdown\n",
    "\n",
    "> Good start Jared, there's a bit around the python code I'd like you to try again. In particular the duplicates and the minimum and maximum age.\n",
    "\n",
    "> Also, can you please finish off the Communication components - they might seem unimportant but they are meant to give you an idea of real world data science. It's a good opportunity to practice your communication skills.\n",
    "\n",
    "##Homework:\n",
    "\n",
    "#### Setup\n",
    "* Resolve any installation issues before next class.\n",
    "* Make sure you have a github profile and created a repo called \"SYD_DAT_3\"\n",
    "* Clone the class repo (this one!)\n",
    "* Review this [code](../labs/Week 1/00_python_refresher.py) for a recap of some Python basics.\n",
    "\n",
    "#### Communication\n",
    "* Read [Analyzing the Analyzers](http://cdn.oreillystatic.com/oreilly/radarreport/0636920029014/Analyzing_the_Analyzers.pdf) for a useful look at the different types of data scientists. Write down 5 key points you took away from the article\n",
    "* Read about some [Markdown Techniques](http://daringfireball.net/projects/markdown/syntax)\n",
    "* Write a summary of 2 chapters of [The Data Science Handbook](http://www.thedatasciencehandbook.com/) in Markdown and submit a pull request in the Lab Directory\n",
    "\n",
    "#### Programming\n",
    "* Complete the lab from class and the additional Exercise below\n",
    "\n",
    "#### Course Project\n",
    "* Come up with 5 different ideas for your course project. For each one list:\n",
    "  * Overview of your idea\n",
    "  * What data you will use\n",
    "  * What the outcome is that you are trying to achieve\n",
    "  * Any ideas of modelling techniques it may involve\n",
    "\n",
    "**Instructions: copy this file and append your name in the filename, e.g. Homework1_ian_hansel.ipynb.\n",
    "Then commit this in your local repository, push it to your github account and create a pull request so I can see your work. Remeber if you get stuck to look at the slides going over Fork, Clone, Commit, Push and Pull request.**"
   ]
  },
  {
   "cell_type": "markdown",
   "metadata": {},
   "source": [
    "# Project idea 1 : Sales Forecast\n",
    "\n",
    "#### Overview of your idea\n",
    "    \n",
    "    Try and predict future sales\n",
    "    \n",
    "\n",
    "#### What data you will use\n",
    "\n",
    "    Data from work + maybe some additional external data weather etc.\n",
    "    \n",
    "\n",
    "#### What is the outcome is that you are trying to achieve\n",
    "\n",
    "\n",
    "    The purpose is to manage future cashflows of sales with outflows of purchases.\n",
    "    \n",
    "\n",
    "#### Any ideas of modelling techniques it may involve\n",
    "\n",
    "\n",
    "    Linear regression, Ensemble models\n",
    "\n",
    "> Excellent idea. Did you look at the forecasting open source textbooks? Did they give you any ideas?"
   ]
  },
  {
   "cell_type": "markdown",
   "metadata": {},
   "source": [
    "# Project idea 2 : Predict which promo a customer will purchase\n",
    "\n",
    "#### Overview of your idea\n",
    "\n",
    "    Given a customer database predict which customer will purchase after receiving a particular promotion\n",
    "\n",
    "\n",
    "#### What data you will use\n",
    "    \n",
    "    Maybe Kaggle Data\n",
    "\n",
    "\n",
    "#### What is the outcome is that you are trying to achieve\n",
    "    \n",
    "    The purpose is to focus on sending promotions to customers that will actually purchase.\n",
    "\n",
    "\n",
    "#### Any ideas of modelling techniques it may involve\n",
    "    \n",
    "    Logisitc regression, SVC, Random forest, other ensemble methods\n",
    "    \n",
    "> Good idea, can you be a bit more specific? What data set? Do you have any similar data at work?"
   ]
  },
  {
   "cell_type": "markdown",
   "metadata": {},
   "source": [
    "# Project idea 3 : Sentiment Analysis - Hotel,food,product reviews\n",
    "\n",
    "#### Overview of your idea\n",
    "\n",
    "    Given a current event determine the attitude of the audience\n",
    "\n",
    "#### What data you will use\n",
    "\n",
    "    Scrape some data,Twitter,facebook API's on event etc Sporting,financial\n",
    "\n",
    "\n",
    "#### What is the outcome is that you are trying to achieve\n",
    "\n",
    "    \n",
    "    Find out whether there is a positive or negative response to a particular event\n",
    "\n",
    "\n",
    "#### Any ideas of modelling techniques it may involve\n",
    "    \n",
    "    Bag of words\n",
    "    \n",
    "> Good start, but at the end of the day can you be a bit more specific about the outcomes? A bit more thinking around 'why' are you doing this. Otherwise it will be too open ended. Maybe something like does twitter support affect a sports team's performance?"
   ]
  },
  {
   "cell_type": "markdown",
   "metadata": {},
   "source": [
    "# Project idea 4 : Product Recommender System\n",
    "\n",
    "#### Overview of your idea\n",
    "\n",
    "    Setup up a recommender system using customer product data\n",
    "\n",
    "#### What data you will use\n",
    "\n",
    "    Data from Amazon\n",
    "\n",
    "#### What is the outcome is that you are trying to achieve\n",
    "\n",
    "    Predict products a user might have interest in.    \n",
    "    \n",
    "\n",
    "#### Any ideas of modelling techniques it may involve\n",
    "\n",
    "    Collaborative filtering\n",
    "    \n",
    "> What type of data in particular? Can you get the data?\n"
   ]
  },
  {
   "cell_type": "markdown",
   "metadata": {},
   "source": [
    "# Project idea 5 : Clustering - Customer Segmentation\n",
    "\n",
    "#### Overview of your idea\n",
    "\n",
    "    Split a large customer Dataset\n",
    "\n",
    "#### What data you will use\n",
    "\n",
    "    Maybe Ebay\n",
    "\n",
    "    \n",
    "#### What is the outcome is that you are trying to achieve\n",
    "\n",
    "    Gain a better understanding of customer base for the purpose of tailoring specific products.\n",
    "    \n",
    "\n",
    "#### Any ideas of modelling techniques it may involve\n",
    "\n",
    "    K-means clustering\n",
    "    \n",
    "> What's the end goal of this? Can you acquire the data?"
   ]
  },
  {
   "cell_type": "markdown",
   "metadata": {},
   "source": [
    "## Exercise Four - Movie Lens Data"
   ]
  },
  {
   "cell_type": "code",
   "execution_count": 5,
   "metadata": {
    "collapsed": false,
    "scrolled": true
   },
   "outputs": [
    {
     "name": "stdout",
     "output_type": "stream",
     "text": [
      " Volume in drive C is OS\n",
      " Volume Serial Number is 761C-04F8\n",
      "\n",
      " Directory of C:\\Users\\JChung\\Desktop\\SYD_DAT_3\\homework\\ml-1m\n",
      "\n",
      "31/03/2015  04:16 PM    <DIR>          .\n",
      "31/03/2015  04:16 PM    <DIR>          ..\n",
      "26/03/2003  03:18 PM           171,308 movies.dat\n",
      "28/02/2003  03:53 PM        24,594,131 ratings.dat\n",
      "31/03/2015  04:16 PM             5,197 README\n",
      "28/02/2003  03:53 PM           134,368 users.dat\n",
      "               4 File(s)     24,905,004 bytes\n",
      "               2 Dir(s)  138,828,521,472 bytes free\n"
     ]
    }
   ],
   "source": [
    "ls"
   ]
  },
  {
   "cell_type": "code",
   "execution_count": 2,
   "metadata": {
    "collapsed": true
   },
   "outputs": [],
   "source": [
    "import pandas as pd\n",
    "import numpy as np"
   ]
  },
  {
   "cell_type": "code",
   "execution_count": 6,
   "metadata": {
    "collapsed": false,
    "scrolled": true
   },
   "outputs": [],
   "source": [
    "users = pd.read_table(\"users.dat\",sep = \"::\",header = None,names = ['Id','Sex','Age','Occupation','Zip-code'])"
   ]
  },
  {
   "cell_type": "code",
   "execution_count": 7,
   "metadata": {
    "collapsed": false
   },
   "outputs": [],
   "source": [
    "def change(x):\n",
    "    a = 0\n",
    "    if x == 0:\n",
    "        a = \"other\"\n",
    "    elif x == 1:\n",
    "        a = \"academic/educator\"\n",
    "    elif x == 2:\n",
    "        a = \"artist\"\n",
    "    elif x == 3:\n",
    "        a = \"clerical/admin\"\n",
    "    elif x == 4:\n",
    "        a = \"college/grad student\"\n",
    "    elif x == 5:\n",
    "        a = \"customer service\"\n",
    "    elif x == 6:\n",
    "        a = \"doctor/health care\"\n",
    "    elif x == 7:\n",
    "        a = \"executive/managerial\"\n",
    "    elif x == 8:\n",
    "        a = \"farmer\"\n",
    "    elif x == 9:\n",
    "        a = \"homemaker\"\n",
    "    elif x == 10:\n",
    "        a = \"K-12 student\"\n",
    "    elif x == 11:\n",
    "        a = \"lawyer\"\n",
    "    elif x == 12:\n",
    "        a = \"programmer\"\n",
    "    elif x == 13:\n",
    "        a = \"retired\"\n",
    "    elif x == 14:\n",
    "        a = \"sales/marketing\"\n",
    "    elif x == 15:\n",
    "        a = \"scientist\"\n",
    "    elif x == 16:\n",
    "        a = \"self-employed\"\n",
    "    elif x == 17:\n",
    "        a = \"technician/engineer\"\n",
    "    elif x == 18:\n",
    "        a = \"tradesman/craftsman\"\n",
    "    elif x == 19:\n",
    "        a = \"unemployed\"\n",
    "    elif x == 20:\n",
    "        a = \"writer\"\n",
    "    return a\n",
    "    "
   ]
  },
  {
   "cell_type": "code",
   "execution_count": 8,
   "metadata": {
    "collapsed": false,
    "scrolled": true
   },
   "outputs": [],
   "source": [
    "users['Occupation'] = users.Occupation.apply(lambda x: change(x))"
   ]
  },
  {
   "cell_type": "code",
   "execution_count": 12,
   "metadata": {
    "collapsed": false,
    "scrolled": true
   },
   "outputs": [
    {
     "data": {
      "text/html": [
       "<div>\n",
       "<table border=\"1\" class=\"dataframe\">\n",
       "  <thead>\n",
       "    <tr style=\"text-align: right;\">\n",
       "      <th></th>\n",
       "      <th>Id</th>\n",
       "      <th>Sex</th>\n",
       "      <th>Age</th>\n",
       "      <th>Occupation</th>\n",
       "      <th>Zip-code</th>\n",
       "    </tr>\n",
       "  </thead>\n",
       "  <tbody>\n",
       "    <tr>\n",
       "      <th>0</th>\n",
       "      <td>1</td>\n",
       "      <td>F</td>\n",
       "      <td>1</td>\n",
       "      <td>K-12 student</td>\n",
       "      <td>48067</td>\n",
       "    </tr>\n",
       "    <tr>\n",
       "      <th>1</th>\n",
       "      <td>2</td>\n",
       "      <td>M</td>\n",
       "      <td>56</td>\n",
       "      <td>self-employed</td>\n",
       "      <td>70072</td>\n",
       "    </tr>\n",
       "    <tr>\n",
       "      <th>2</th>\n",
       "      <td>3</td>\n",
       "      <td>M</td>\n",
       "      <td>25</td>\n",
       "      <td>scientist</td>\n",
       "      <td>55117</td>\n",
       "    </tr>\n",
       "    <tr>\n",
       "      <th>3</th>\n",
       "      <td>4</td>\n",
       "      <td>M</td>\n",
       "      <td>45</td>\n",
       "      <td>executive/managerial</td>\n",
       "      <td>02460</td>\n",
       "    </tr>\n",
       "    <tr>\n",
       "      <th>4</th>\n",
       "      <td>5</td>\n",
       "      <td>M</td>\n",
       "      <td>25</td>\n",
       "      <td>writer</td>\n",
       "      <td>55455</td>\n",
       "    </tr>\n",
       "  </tbody>\n",
       "</table>\n",
       "</div>"
      ],
      "text/plain": [
       "   Id Sex  Age            Occupation Zip-code\n",
       "0   1   F    1          K-12 student    48067\n",
       "1   2   M   56         self-employed    70072\n",
       "2   3   M   25             scientist    55117\n",
       "3   4   M   45  executive/managerial    02460\n",
       "4   5   M   25                writer    55455"
      ]
     },
     "execution_count": 12,
     "metadata": {},
     "output_type": "execute_result"
    }
   ],
   "source": [
    "users.head()"
   ]
  },
  {
   "cell_type": "code",
   "execution_count": 74,
   "metadata": {
    "collapsed": false
   },
   "outputs": [
    {
     "data": {
      "text/plain": [
       "Occupation\n",
       "K-12 student            195\n",
       "academic/educator       528\n",
       "artist                  267\n",
       "clerical/admin          173\n",
       "college/grad student    759\n",
       "customer service        112\n",
       "doctor/health care      236\n",
       "executive/managerial    679\n",
       "farmer                   17\n",
       "homemaker                92\n",
       "lawyer                  129\n",
       "other                   711\n",
       "programmer              388\n",
       "retired                 142\n",
       "sales/marketing         302\n",
       "scientist               144\n",
       "self-employed           241\n",
       "technician/engineer     502\n",
       "tradesman/craftsman      70\n",
       "unemployed               72\n",
       "writer                  281\n",
       "dtype: int64"
      ]
     },
     "execution_count": 74,
     "metadata": {},
     "output_type": "execute_result"
    }
   ],
   "source": [
    "# for each occupation in 'users', count the number of occurrences\n",
    "users.groupby('Occupation').size()"
   ]
  },
  {
   "cell_type": "code",
   "execution_count": 80,
   "metadata": {
    "collapsed": false
   },
   "outputs": [
    {
     "data": {
      "text/plain": [
       "Occupation\n",
       "K-12 student             4.107692\n",
       "academic/educator       36.030303\n",
       "artist                  30.662921\n",
       "clerical/admin          33.127168\n",
       "college/grad student    20.408432\n",
       "customer service        29.508929\n",
       "doctor/health care      36.855932\n",
       "executive/managerial    34.811487\n",
       "farmer                  34.529412\n",
       "homemaker               33.989130\n",
       "lawyer                  34.015504\n",
       "other                   29.856540\n",
       "programmer              29.716495\n",
       "retired                 53.190141\n",
       "sales/marketing         31.135762\n",
       "scientist               31.312500\n",
       "self-employed           37.792531\n",
       "technician/engineer     32.181275\n",
       "tradesman/craftsman     33.400000\n",
       "unemployed              21.444444\n",
       "writer                  31.024911\n",
       "Name: Age, dtype: float64"
      ]
     },
     "execution_count": 80,
     "metadata": {},
     "output_type": "execute_result"
    }
   ],
   "source": [
    "# for each occupation, calculate the mean age\n",
    "users.groupby('Occupation').Age.mean()"
   ]
  },
  {
   "cell_type": "code",
   "execution_count": 81,
   "metadata": {
    "collapsed": false
   },
   "outputs": [
    {
     "data": {
      "text/html": [
       "<div>\n",
       "<table border=\"1\" class=\"dataframe\">\n",
       "  <thead>\n",
       "    <tr style=\"text-align: right;\">\n",
       "      <th></th>\n",
       "      <th>amin</th>\n",
       "      <th>amax</th>\n",
       "    </tr>\n",
       "    <tr>\n",
       "      <th>Occupation</th>\n",
       "      <th></th>\n",
       "      <th></th>\n",
       "    </tr>\n",
       "  </thead>\n",
       "  <tbody>\n",
       "    <tr>\n",
       "      <th>K-12 student</th>\n",
       "      <td>1</td>\n",
       "      <td>56</td>\n",
       "    </tr>\n",
       "    <tr>\n",
       "      <th>academic/educator</th>\n",
       "      <td>1</td>\n",
       "      <td>56</td>\n",
       "    </tr>\n",
       "    <tr>\n",
       "      <th>artist</th>\n",
       "      <td>1</td>\n",
       "      <td>56</td>\n",
       "    </tr>\n",
       "    <tr>\n",
       "      <th>clerical/admin</th>\n",
       "      <td>18</td>\n",
       "      <td>56</td>\n",
       "    </tr>\n",
       "    <tr>\n",
       "      <th>college/grad student</th>\n",
       "      <td>1</td>\n",
       "      <td>50</td>\n",
       "    </tr>\n",
       "    <tr>\n",
       "      <th>customer service</th>\n",
       "      <td>18</td>\n",
       "      <td>56</td>\n",
       "    </tr>\n",
       "    <tr>\n",
       "      <th>doctor/health care</th>\n",
       "      <td>18</td>\n",
       "      <td>56</td>\n",
       "    </tr>\n",
       "    <tr>\n",
       "      <th>executive/managerial</th>\n",
       "      <td>1</td>\n",
       "      <td>56</td>\n",
       "    </tr>\n",
       "    <tr>\n",
       "      <th>farmer</th>\n",
       "      <td>1</td>\n",
       "      <td>56</td>\n",
       "    </tr>\n",
       "    <tr>\n",
       "      <th>homemaker</th>\n",
       "      <td>18</td>\n",
       "      <td>56</td>\n",
       "    </tr>\n",
       "    <tr>\n",
       "      <th>lawyer</th>\n",
       "      <td>1</td>\n",
       "      <td>56</td>\n",
       "    </tr>\n",
       "    <tr>\n",
       "      <th>other</th>\n",
       "      <td>1</td>\n",
       "      <td>56</td>\n",
       "    </tr>\n",
       "    <tr>\n",
       "      <th>programmer</th>\n",
       "      <td>1</td>\n",
       "      <td>56</td>\n",
       "    </tr>\n",
       "    <tr>\n",
       "      <th>retired</th>\n",
       "      <td>1</td>\n",
       "      <td>56</td>\n",
       "    </tr>\n",
       "    <tr>\n",
       "      <th>sales/marketing</th>\n",
       "      <td>1</td>\n",
       "      <td>56</td>\n",
       "    </tr>\n",
       "    <tr>\n",
       "      <th>scientist</th>\n",
       "      <td>18</td>\n",
       "      <td>56</td>\n",
       "    </tr>\n",
       "    <tr>\n",
       "      <th>self-employed</th>\n",
       "      <td>18</td>\n",
       "      <td>56</td>\n",
       "    </tr>\n",
       "    <tr>\n",
       "      <th>technician/engineer</th>\n",
       "      <td>1</td>\n",
       "      <td>56</td>\n",
       "    </tr>\n",
       "    <tr>\n",
       "      <th>tradesman/craftsman</th>\n",
       "      <td>18</td>\n",
       "      <td>56</td>\n",
       "    </tr>\n",
       "    <tr>\n",
       "      <th>unemployed</th>\n",
       "      <td>1</td>\n",
       "      <td>56</td>\n",
       "    </tr>\n",
       "    <tr>\n",
       "      <th>writer</th>\n",
       "      <td>18</td>\n",
       "      <td>56</td>\n",
       "    </tr>\n",
       "  </tbody>\n",
       "</table>\n",
       "</div>"
      ],
      "text/plain": [
       "                      amin  amax\n",
       "Occupation                      \n",
       "K-12 student             1    56\n",
       "academic/educator        1    56\n",
       "artist                   1    56\n",
       "clerical/admin          18    56\n",
       "college/grad student     1    50\n",
       "customer service        18    56\n",
       "doctor/health care      18    56\n",
       "executive/managerial     1    56\n",
       "farmer                   1    56\n",
       "homemaker               18    56\n",
       "lawyer                   1    56\n",
       "other                    1    56\n",
       "programmer               1    56\n",
       "retired                  1    56\n",
       "sales/marketing          1    56\n",
       "scientist               18    56\n",
       "self-employed           18    56\n",
       "technician/engineer      1    56\n",
       "tradesman/craftsman     18    56\n",
       "unemployed               1    56\n",
       "writer                  18    56"
      ]
     },
     "execution_count": 81,
     "metadata": {},
     "output_type": "execute_result"
    }
   ],
   "source": [
    "# for each occupation, calculate the minimum and maximum ages\n",
    "users.groupby('Occupation').Age.agg([np.min,np.max])"
   ]
  },
  {
   "cell_type": "code",
   "execution_count": 82,
   "metadata": {
    "collapsed": false
   },
   "outputs": [
    {
     "data": {
      "text/plain": [
       "Occupation            Sex\n",
       "K-12 student          F       1.772727\n",
       "                      M       5.302326\n",
       "academic/educator     F      35.387560\n",
       "                      M      36.451411\n",
       "artist                F      33.681319\n",
       "                      M      29.102273\n",
       "clerical/admin        F      33.640000\n",
       "                      M      32.424658\n",
       "college/grad student  F      20.978632\n",
       "                      M      20.154286\n",
       "customer service      F      30.967742\n",
       "                      M      28.950617\n",
       "doctor/health care    F      37.343137\n",
       "                      M      36.485075\n",
       "executive/managerial  F      33.410072\n",
       "                      M      35.172222\n",
       "farmer                F      47.000000\n",
       "                      M      31.857143\n",
       "homemaker             F      34.258427\n",
       "                      M      26.000000\n",
       "lawyer                F      32.454545\n",
       "                      M      34.336449\n",
       "other                 F      30.788793\n",
       "                      M      29.405010\n",
       "programmer            F      34.420000\n",
       "                      M      29.020710\n",
       "retired               F      54.470588\n",
       "                      M      52.787037\n",
       "sales/marketing       F      29.278481\n",
       "                      M      31.793722\n",
       "scientist             F      33.035714\n",
       "                      M      30.896552\n",
       "self-employed         F      39.529412\n",
       "                      M      37.326316\n",
       "technician/engineer   F      30.634615\n",
       "                      M      32.360000\n",
       "tradesman/craftsman   F      37.500000\n",
       "                      M      33.151515\n",
       "unemployed            F      21.000000\n",
       "                      M      21.561404\n",
       "writer                F      32.602564\n",
       "                      M      30.418719\n",
       "Name: Age, dtype: float64"
      ]
     },
     "execution_count": 82,
     "metadata": {},
     "output_type": "execute_result"
    }
   ],
   "source": [
    "# for each combination of occupation and gender, calculate the mean age\n",
    "users.groupby(['Occupation','Sex']).Age.mean()"
   ]
  },
  {
   "cell_type": "code",
   "execution_count": 79,
   "metadata": {
    "collapsed": false
   },
   "outputs": [
    {
     "data": {
      "text/html": [
       "<div>\n",
       "<table border=\"1\" class=\"dataframe\">\n",
       "  <thead>\n",
       "    <tr style=\"text-align: right;\">\n",
       "      <th></th>\n",
       "      <th>Id</th>\n",
       "      <th>Sex</th>\n",
       "      <th>Age</th>\n",
       "      <th>Occupation</th>\n",
       "      <th>Zip-code</th>\n",
       "    </tr>\n",
       "  </thead>\n",
       "  <tbody>\n",
       "    <tr>\n",
       "      <th>2405</th>\n",
       "      <td>2406</td>\n",
       "      <td>F</td>\n",
       "      <td>56</td>\n",
       "      <td>programmer</td>\n",
       "      <td>01520</td>\n",
       "    </tr>\n",
       "  </tbody>\n",
       "</table>\n",
       "</div>"
      ],
      "text/plain": [
       "        Id Sex  Age  Occupation Zip-code\n",
       "2405  2406   F   56  programmer    01520"
      ]
     },
     "execution_count": 79,
     "metadata": {},
     "output_type": "execute_result"
    }
   ],
   "source": [
    "# randomly sample a DataFrame\n",
    "users.sample()"
   ]
  },
  {
   "cell_type": "code",
   "execution_count": 77,
   "metadata": {
    "collapsed": false
   },
   "outputs": [
    {
     "data": {
      "text/html": [
       "<div>\n",
       "<table border=\"1\" class=\"dataframe\">\n",
       "  <thead>\n",
       "    <tr style=\"text-align: right;\">\n",
       "      <th></th>\n",
       "      <th>Id</th>\n",
       "      <th>Sex</th>\n",
       "      <th>Age</th>\n",
       "      <th>Occupation</th>\n",
       "      <th>Zip-code</th>\n",
       "    </tr>\n",
       "  </thead>\n",
       "  <tbody>\n",
       "  </tbody>\n",
       "</table>\n",
       "</div>"
      ],
      "text/plain": [
       "Empty DataFrame\n",
       "Columns: [Id, Sex, Age, Occupation, Zip-code]\n",
       "Index: []"
      ]
     },
     "execution_count": 77,
     "metadata": {},
     "output_type": "execute_result"
    }
   ],
   "source": [
    "# detect duplicate users\n",
    "users[users.duplicated() == True]"
   ]
  },
  {
   "cell_type": "code",
   "execution_count": null,
   "metadata": {
    "collapsed": true
   },
   "outputs": [],
   "source": []
  },
  {
   "cell_type": "code",
   "execution_count": null,
   "metadata": {
    "collapsed": true
   },
   "outputs": [],
   "source": []
  },
  {
   "cell_type": "code",
   "execution_count": null,
   "metadata": {
    "collapsed": true
   },
   "outputs": [],
   "source": []
  },
  {
   "cell_type": "code",
   "execution_count": null,
   "metadata": {
    "collapsed": true
   },
   "outputs": [],
   "source": []
  }
 ],
 "metadata": {
  "kernelspec": {
   "display_name": "Python 2",
   "language": "python",
   "name": "python2"
  },
  "language_info": {
   "codemirror_mode": {
    "name": "ipython",
    "version": 2
   },
   "file_extension": ".py",
   "mimetype": "text/x-python",
   "name": "python",
   "nbconvert_exporter": "python",
   "pygments_lexer": "ipython2",
   "version": "2.7.10"
  }
 },
 "nbformat": 4,
 "nbformat_minor": 0
}
