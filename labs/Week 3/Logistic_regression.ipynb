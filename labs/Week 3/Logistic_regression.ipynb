{
 "cells": [
  {
   "cell_type": "markdown",
   "metadata": {},
   "source": [
    "# Logistic Regression"
   ]
  },
  {
   "cell_type": "markdown",
   "metadata": {},
   "source": [
    "## Agenda\n",
    "\n",
    "1. Refresh your memory on how to do linear regression in scikit-learn\n",
    "2. Attempt to use linear regression for classification\n",
    "3. Show you why logistic regression is a better alternative for classification\n",
    "4. Brief overview of probability, odds, e, log, and log-odds\n",
    "5. Explain the form of logistic regression\n",
    "6. Explain how to interpret logistic regression coefficients\n",
    "7. Compare logistic regression with other models"
   ]
  },
  {
   "cell_type": "markdown",
   "metadata": {},
   "source": [
    "## Part 1: Predicting a Continuous Response"
   ]
  },
  {
   "cell_type": "code",
<<<<<<< HEAD
   "execution_count": 19,
=======
   "execution_count": 1,
>>>>>>> ihansel/master
   "metadata": {
    "collapsed": false
   },
   "outputs": [],
   "source": [
    "# glass identification dataset\n",
    "# USA Forensic Science Service; 6 types of glass; defined in terms of their oxide content (i.e. Na, Fe, K, etc)\n",
    "import pandas as pd\n",
    "url = 'http://archive.ics.uci.edu/ml/machine-learning-databases/glass/glass.data'\n",
    "col_names = ['id','ri','na','mg','al','si','k','ca','ba','fe','glass_type']\n",
    "glass = pd.read_csv(url, names=col_names, index_col='id')\n",
    "glass['assorted'] = glass.glass_type.map({1:0, 2:0, 3:0, 4:0, 5:1, 6:1, 7:1})"
   ]
  },
  {
   "cell_type": "code",
<<<<<<< HEAD
   "execution_count": 20,
=======
   "execution_count": 2,
>>>>>>> ihansel/master
   "metadata": {
    "collapsed": false
   },
   "outputs": [
    {
     "data": {
      "text/html": [
       "<div>\n",
       "<table border=\"1\" class=\"dataframe\">\n",
       "  <thead>\n",
       "    <tr style=\"text-align: right;\">\n",
       "      <th></th>\n",
       "      <th>ri</th>\n",
       "      <th>na</th>\n",
       "      <th>mg</th>\n",
       "      <th>al</th>\n",
       "      <th>si</th>\n",
       "      <th>k</th>\n",
       "      <th>ca</th>\n",
       "      <th>ba</th>\n",
       "      <th>fe</th>\n",
       "      <th>glass_type</th>\n",
       "      <th>assorted</th>\n",
       "    </tr>\n",
       "    <tr>\n",
       "      <th>id</th>\n",
       "      <th></th>\n",
       "      <th></th>\n",
       "      <th></th>\n",
       "      <th></th>\n",
       "      <th></th>\n",
       "      <th></th>\n",
       "      <th></th>\n",
       "      <th></th>\n",
       "      <th></th>\n",
       "      <th></th>\n",
       "      <th></th>\n",
       "    </tr>\n",
       "  </thead>\n",
       "  <tbody>\n",
       "    <tr>\n",
       "      <th>1</th>\n",
       "      <td>1.52101</td>\n",
       "      <td>13.64</td>\n",
       "      <td>4.49</td>\n",
       "      <td>1.10</td>\n",
       "      <td>71.78</td>\n",
       "      <td>0.06</td>\n",
       "      <td>8.75</td>\n",
       "      <td>0</td>\n",
       "      <td>0</td>\n",
       "      <td>1</td>\n",
       "      <td>0</td>\n",
       "    </tr>\n",
       "    <tr>\n",
       "      <th>2</th>\n",
       "      <td>1.51761</td>\n",
       "      <td>13.89</td>\n",
       "      <td>3.60</td>\n",
       "      <td>1.36</td>\n",
       "      <td>72.73</td>\n",
       "      <td>0.48</td>\n",
       "      <td>7.83</td>\n",
       "      <td>0</td>\n",
       "      <td>0</td>\n",
       "      <td>1</td>\n",
       "      <td>0</td>\n",
       "    </tr>\n",
       "    <tr>\n",
       "      <th>3</th>\n",
       "      <td>1.51618</td>\n",
       "      <td>13.53</td>\n",
       "      <td>3.55</td>\n",
       "      <td>1.54</td>\n",
       "      <td>72.99</td>\n",
       "      <td>0.39</td>\n",
       "      <td>7.78</td>\n",
       "      <td>0</td>\n",
       "      <td>0</td>\n",
       "      <td>1</td>\n",
       "      <td>0</td>\n",
       "    </tr>\n",
       "    <tr>\n",
       "      <th>4</th>\n",
       "      <td>1.51766</td>\n",
       "      <td>13.21</td>\n",
       "      <td>3.69</td>\n",
       "      <td>1.29</td>\n",
       "      <td>72.61</td>\n",
       "      <td>0.57</td>\n",
       "      <td>8.22</td>\n",
       "      <td>0</td>\n",
       "      <td>0</td>\n",
       "      <td>1</td>\n",
       "      <td>0</td>\n",
       "    </tr>\n",
       "    <tr>\n",
       "      <th>5</th>\n",
       "      <td>1.51742</td>\n",
       "      <td>13.27</td>\n",
       "      <td>3.62</td>\n",
       "      <td>1.24</td>\n",
       "      <td>73.08</td>\n",
       "      <td>0.55</td>\n",
       "      <td>8.07</td>\n",
       "      <td>0</td>\n",
       "      <td>0</td>\n",
       "      <td>1</td>\n",
       "      <td>0</td>\n",
       "    </tr>\n",
       "  </tbody>\n",
       "</table>\n",
       "</div>"
      ],
      "text/plain": [
       "         ri     na    mg    al     si     k    ca  ba  fe  glass_type  \\\n",
       "id                                                                      \n",
       "1   1.52101  13.64  4.49  1.10  71.78  0.06  8.75   0   0           1   \n",
       "2   1.51761  13.89  3.60  1.36  72.73  0.48  7.83   0   0           1   \n",
       "3   1.51618  13.53  3.55  1.54  72.99  0.39  7.78   0   0           1   \n",
       "4   1.51766  13.21  3.69  1.29  72.61  0.57  8.22   0   0           1   \n",
       "5   1.51742  13.27  3.62  1.24  73.08  0.55  8.07   0   0           1   \n",
       "\n",
       "    assorted  \n",
       "id            \n",
       "1          0  \n",
       "2          0  \n",
       "3          0  \n",
       "4          0  \n",
       "5          0  "
      ]
     },
<<<<<<< HEAD
     "execution_count": 20,
=======
     "execution_count": 2,
>>>>>>> ihansel/master
     "metadata": {},
     "output_type": "execute_result"
    }
   ],
   "source": [
    "glass.head()"
   ]
  },
  {
   "cell_type": "markdown",
   "metadata": {},
   "source": [
    "Pretend that we want to predict **ri**, and our only feature is **al**. How would we do it using machine learning? We would frame it as a regression problem, and use a linear regression model with **al** as the only feature and **ri** as the response.\n",
    "\n",
    "How would we **visualize** this model? Create a scatter plot with **al** on the x-axis and **ri** on the y-axis, and draw the line of best fit."
   ]
  },
  {
   "cell_type": "code",
<<<<<<< HEAD
   "execution_count": 21,
=======
   "execution_count": 5,
   "metadata": {
    "collapsed": false
   },
   "outputs": [
    {
     "name": "stdout",
     "output_type": "stream",
     "text": [
      "Requirement already satisfied (use --upgrade to upgrade): seaborn in /Users/ianhansel/anaconda/lib/python2.7/site-packages\n",
      "\u001b[33mYou are using pip version 7.0.3, however version 7.1.2 is available.\n",
      "You should consider upgrading via the 'pip install --upgrade pip' command.\u001b[0m\n"
     ]
    }
   ],
   "source": [
    "! pip install seaborn"
   ]
  },
  {
   "cell_type": "code",
   "execution_count": 3,
>>>>>>> ihansel/master
   "metadata": {
    "collapsed": false
   },
   "outputs": [
    {
     "name": "stdout",
     "output_type": "stream",
     "text": [
      "Requirement already up-to-date: pip in /anaconda/lib/python2.7/site-packages\r\n"
     ]
    }
   ],
   "source": [
    "!pip install --upgrade pip"
   ]
  },
  {
   "cell_type": "code",
   "execution_count": 8,
   "metadata": {
    "collapsed": false
   },
   "outputs": [
    {
     "ename": "ImportError",
     "evalue": "No module named seaborn",
     "output_type": "error",
     "traceback": [
      "\u001b[0;31m---------------------------------------------------------------------------\u001b[0m",
      "\u001b[0;31mImportError\u001b[0m                               Traceback (most recent call last)",
      "\u001b[0;32m<ipython-input-8-d46cad13465a>\u001b[0m in \u001b[0;36m<module>\u001b[0;34m()\u001b[0m\n\u001b[1;32m      2\u001b[0m \u001b[0;34m\u001b[0m\u001b[0m\n\u001b[1;32m      3\u001b[0m \u001b[0;34m\u001b[0m\u001b[0m\n\u001b[0;32m----> 4\u001b[0;31m \u001b[0;32mfrom\u001b[0m \u001b[0mseaborn\u001b[0m \u001b[0;32mimport\u001b[0m \u001b[0m__version__\u001b[0m\u001b[0;34m\u001b[0m\u001b[0m\n\u001b[0m",
      "\u001b[0;31mImportError\u001b[0m: No module named seaborn"
     ]
    }
   ],
   "source": [
    "#!pip install seaborn\n",
    "\n",
    "\n",
    "from seaborn import __version__\n"
   ]
  },
  {
   "cell_type": "code",
   "execution_count": 6,
   "metadata": {
    "collapsed": false
   },
   "outputs": [
    {
     "ename": "ImportError",
     "evalue": "No module named seaborn",
     "output_type": "error",
     "traceback": [
      "\u001b[0;31m---------------------------------------------------------------------------\u001b[0m",
      "\u001b[0;31mImportError\u001b[0m                               Traceback (most recent call last)",
      "\u001b[0;32m<ipython-input-6-ed3dd7011faa>\u001b[0m in \u001b[0;36m<module>\u001b[0;34m()\u001b[0m\n\u001b[0;32m----> 1\u001b[0;31m \u001b[0;32mimport\u001b[0m \u001b[0mseaborn\u001b[0m \u001b[0;32mas\u001b[0m \u001b[0msns\u001b[0m\u001b[0;34m\u001b[0m\u001b[0m\n\u001b[0m\u001b[1;32m      2\u001b[0m \u001b[0;32mimport\u001b[0m \u001b[0mmatplotlib\u001b[0m\u001b[0;34m.\u001b[0m\u001b[0mpyplot\u001b[0m \u001b[0;32mas\u001b[0m \u001b[0mplt\u001b[0m\u001b[0;34m\u001b[0m\u001b[0m\n\u001b[1;32m      3\u001b[0m \u001b[0mget_ipython\u001b[0m\u001b[0;34m(\u001b[0m\u001b[0;34m)\u001b[0m\u001b[0;34m.\u001b[0m\u001b[0mmagic\u001b[0m\u001b[0;34m(\u001b[0m\u001b[0;34mu'matplotlib inline'\u001b[0m\u001b[0;34m)\u001b[0m\u001b[0;34m\u001b[0m\u001b[0m\n",
      "\u001b[0;31mImportError\u001b[0m: No module named seaborn"
     ]
    }
   ],
   "source": [
    "import seaborn as sns\n",
    "import matplotlib.pyplot as plt\n",
    "%matplotlib inline"
   ]
  },
  {
   "cell_type": "code",
<<<<<<< HEAD
   "execution_count": 27,
=======
   "execution_count": 4,
>>>>>>> ihansel/master
   "metadata": {
    "collapsed": false
   },
   "outputs": [
    {
<<<<<<< HEAD
     "ename": "NameError",
     "evalue": "name 'sns' is not defined",
     "output_type": "error",
     "traceback": [
      "\u001b[0;31m---------------------------------------------------------------------------\u001b[0m",
      "\u001b[0;31mNameError\u001b[0m                                 Traceback (most recent call last)",
      "\u001b[0;32m<ipython-input-27-beafc0216933>\u001b[0m in \u001b[0;36m<module>\u001b[0;34m()\u001b[0m\n\u001b[0;32m----> 1\u001b[0;31m \u001b[0msns\u001b[0m\u001b[0;34m.\u001b[0m\u001b[0mlmplot\u001b[0m\u001b[0;34m(\u001b[0m\u001b[0mx\u001b[0m\u001b[0;34m=\u001b[0m\u001b[0;34m'al'\u001b[0m\u001b[0;34m,\u001b[0m \u001b[0my\u001b[0m\u001b[0;34m=\u001b[0m\u001b[0;34m'ri'\u001b[0m\u001b[0;34m,\u001b[0m \u001b[0mdata\u001b[0m\u001b[0;34m=\u001b[0m\u001b[0mglass\u001b[0m\u001b[0;34m,\u001b[0m \u001b[0mci\u001b[0m\u001b[0;34m=\u001b[0m\u001b[0mNone\u001b[0m\u001b[0;34m)\u001b[0m\u001b[0;34m\u001b[0m\u001b[0m\n\u001b[0m",
      "\u001b[0;31mNameError\u001b[0m: name 'sns' is not defined"
     ]
=======
     "data": {
      "text/plain": [
       "<seaborn.axisgrid.FacetGrid at 0x10d1f50d0>"
      ]
     },
     "execution_count": 4,
     "metadata": {},
     "output_type": "execute_result"
    },
    {
     "name": "stderr",
     "output_type": "stream",
     "text": [
      "/Users/ianhansel/anaconda/lib/python2.7/site-packages/matplotlib/collections.py:590: FutureWarning: elementwise comparison failed; returning scalar instead, but in the future will perform elementwise comparison\n",
      "  if self._edgecolors == str('face'):\n"
     ]
    },
    {
     "data": {
      "image/png": "iVBORw0KGgoAAAANSUhEUgAAAWEAAAFhCAYAAACh/xvXAAAABHNCSVQICAgIfAhkiAAAAAlwSFlz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\nSUVORK5CYII=\n",
      "text/plain": [
       "<matplotlib.figure.Figure at 0x10d1f5290>"
      ]
     },
     "metadata": {},
     "output_type": "display_data"
>>>>>>> ihansel/master
    }
   ],
   "source": [
    "sns.lmplot(x='al', y='ri', data=glass, ci=None)"
   ]
  },
  {
   "cell_type": "markdown",
   "metadata": {},
   "source": [
    "If we had an **al** value of 2, what would we predict for **ri**? Roughly 1.517.\n",
    "\n",
    "**Exercise:** Draw this plot without using Seaborn."
   ]
  },
  {
   "cell_type": "code",
<<<<<<< HEAD
   "execution_count": 28,
=======
   "execution_count": 6,
>>>>>>> ihansel/master
   "metadata": {
    "collapsed": false
   },
   "outputs": [
    {
     "data": {
      "text/plain": [
<<<<<<< HEAD
       "<matplotlib.axes._subplots.AxesSubplot at 0x109ee7ed0>"
      ]
     },
     "execution_count": 28,
=======
       "<matplotlib.axes._subplots.AxesSubplot at 0x10d2394d0>"
      ]
     },
     "execution_count": 6,
>>>>>>> ihansel/master
     "metadata": {},
     "output_type": "execute_result"
    },
    {
<<<<<<< HEAD
     "name": "stderr",
     "output_type": "stream",
     "text": [
      "/Users/adrian/anaconda/lib/python2.7/site-packages/matplotlib/collections.py:590: FutureWarning: elementwise comparison failed; returning scalar instead, but in the future will perform elementwise comparison\n",
      "  if self._edgecolors == str('face'):\n"
     ]
    },
    {
     "data": {
      "image/png": "iVBORw0KGgoAAAANSUhEUgAAAZIAAAEPCAYAAABoekJnAAAABHNCSVQICAgIfAhkiAAAAAlwSFlz\nAAALEgAACxIB0t1+/AAAIABJREFUeJzt3X+UXGWd5/H3t9P00Bgg6QSbKJE4PTIxkjW9sjELy+na\nne0E0I38Wgd3HOLKCsNRUGgx/sBJK8WOsAZdmRkHVsCwrqgzOcTkbOwGkeLA2YWRBTLIj0GHwIKa\nsCGRxQmzmMl3/7i3um9X3+r6cevWvdX9eZ1Th9v33ufWU0+F+63n133M3REREWlWV9YZEBGRzqZA\nIiIiiSiQiIhIIgokIiKSiAKJiIgkokAiIiKJpBZIzOxWM9trZo9XOV4ws1fM7NHwdXXF8Xnh/h2R\nfaNm9mIkzRlp5V9EROrTneK1bwNuBG6f4Zz73H19lWMfB54Ejo7sc+AGd7+hNVkUEZGkUquRuPv9\nwIEap1nsTrMTgLOAb8ScE5tGRESykWUfiQOnmtkuM9tpZisix74CXAUcjkl3WZjmFjNb0JaciohI\nVVkGkkeApe7+ToImsG0AZvZe4CV3f5TptY+vA28FVgG/BDa3L7siIhLH0nzWlpktA3a4+8o6zt0N\nnAKMAH8IHAKOBI4Btrr7hfVe28z0ADERkSa4e8PdB5nVSMys38ws3F5NENRedvfPuvtSd38rcAHw\no3IQMbMlkUucA8SOCANw99y/Nm3alHkelE/lUflUPsuvZqU2asvM7gCGgMVm9gKwCTgCwN1vAs4H\nLjWzQ8BBgqARJ/rprjOzVeG+3cAlKWVfRETqlFogcfcP1Dj+Z8Cf1TjnPuC+yN8XznC6iIhkQDPb\nM1QoFLLOQl2Uz9bphDyC8tlqnZLPZqXa2Z4VM/PZ+LlERNJkZngndbaLiMjsoEAiIiKJKJCIiEgi\nCiQiIpKIAomIiCSiQCIiIokokIiISCIKJCIikogCiYiIJKJAIiIiiSiQiIhIIgokIiKSiAKJiIgk\nokAiIiKJpBZIzOxWM9trZrHL4ZpZwcxeMbNHw9fVFcfnhft3RPb1mdndZvaMmd1lZgvSyr+IiNQn\nzRrJbcAZNc65z90Hw1ex4tjHgSeZutTup4G73f0k4J7wbxERyVBqgcTd7wcO1DgtdgEVMzsBOAv4\nRsU564Et4fYW4OyE2RQRkYSy7CNx4FQz22VmO81sReTYV4CrgMMVafrdfW+4vRfob0M+RURkBt0Z\nvvcjwFJ3P2hmZwLbgJPM7L3AS+7+qJkVqiV2dzezquvpjo6OTmwXCoVZv2ayiEijSqUSpVIp8XVS\nXbPdzJYBO9x9ZR3n7gZOAUaAPwQOAUcCxwBb3f1CM3saKLj7HjNbAtzr7stjrqU120VEGtRxa7ab\nWb+ZWbi9miCovezun3X3pe7+VuAC4EfufmGYbDuwIdzeQFCLERGRDKXWtGVmdwBDwGIzewHYBBwB\n4O43AecDl5rZIeAgQdCIE61afAn4npldBDwHvD+d3IuISL1SbdrKipq2REQa13FNWyIiMjsokIiI\nSCIKJCIikogCiYiIJKJAIiIiiSiQiIhIIgokIiKSiAKJiIgkokAiIiKJKJCIiEgiCiQiIpKIAomI\niCSiQCIiIokokIiISCIKJCIikogCiYiIJJJaIDGzW81sr5k9XuV4wcxeMbNHw9fV4f4jzewhM3vM\nzH5iZqORNKNm9mIkzRlp5V9EROqT2lK7wG3AjcDtM5xzn7uvj+5w938ws3/p7gfNrBt4wMx+4O4P\nESy7e4O735BetkVEpBGp1Ujc/X7gQI3TYpd0dPeD4WYPwTrvh2ulERGRbGTZR+LAqWa2y8x2mtmK\n8gEz6zKzx4C9wF3u/uNIusvCNLeY2YJ2Z1pERKZKs2mrlkeApWET1pnANuAkAHc/DKwys2OBO83s\nHe7+BPB14Ith+muAzcBFcRcfHR2d2C4UChQKhZQ+hohIZyqVSpRKpcTXMXdPnptqFzdbBuxw95V1\nnLsbeJe776/Y/3ngoLtvrvfaZuZpfi4RkdnIzHD3hrsPMmvaMrN+M7NwezVBUNtvZovLTVZm1gsM\nA0+Ffy+JXOIcIHZEmIiItE9qTVtmdgcwBCw2sxeATQQd57j7TcD5wKVmdgg4CFwQJl0CbDGzeQSB\n7rvuvjM8dp2ZrSLoX9kNXJJW/gXGx8fZvPlmAEZGLmbdunUZ50hE8ijVpq2sqGkrufHxcc45ZwOv\nvXYdAL29G7nzzi0KJiKzWLNNWwokEmvt2vO4++71wIZwzxaGh7dz111bs8yWiKSo4/pIRERkdshy\n+K/k2MjIxTzwwAZeey34u7d3IyMjW7LNlIjkkpq2pCp1tovMLeojiVAgERFpnPpIREQkEwokIiKS\niAKJiIgkokAiIiKJKJCIiEgiCiQiIpKIAolIToyPj7N27XmsXXse4+PjWWdHpG6aRyKSA3pIpuSB\nJiRGKJBIp9FDMiUPNCFRREQyoYc2iuSAHpIpnSy1pi0zuxV4D/BSlXXVC8D3gWfDXVvdvWhmRwL3\nAb9FEOj+yt1HwzR9wHeBE4HngPe7+69irq2mLek4ekimZC13fSRmdjrwa+D2GQLJle6+PubYUe5+\n0My6gQeAy939r83semCfu19vZhuBhe7+6Zj0CiQiIg3KXR+Ju98PHKhxWmyG3f1guNlDsM57OSqs\nB8r1/S3A2QmzKSIiCWXZ2e7AqWa2y8x2mtmK8gEz6zKzx4C9wF3u/uPwUL+77w239wL97c2yiIhU\nyrKz/RFgadiEdSawDTgJwN0PA6vM7FjgTjN7h7s/EU3s7m5mVduvRkdHJ7YLhQKFQqH1n0BEpIOV\nSiVKpVLi66Q6j8TMlgE74vpIYs7dDbzL3fdX7P88cNDdN5vZ00DB3feY2RLgXndfHnMt9ZGIiDQo\nd30ktZhZv5lZuL2aIKjtN7PFZrYg3N8LDANPhcm2MzljawNBLUZERDKUWtOWmd0BDAGLzewFYBNB\nxznufhNwPnCpmR0CDgIXhEmXAFvMbB5BoPuuu+8Mj30J+J6ZXUQ4/Det/IuISH30iBQREQE6sGlL\nRERmBwUSERFJRIFEREQSUSDpIFr4SETySJ3tHUILH4lI2tTZPstt3nxzGEQ2AEFAKT8pFlRbEZHs\naD2SDrFv38tVj1XWVh54YINqKyLSNgokHWB8fJwnntgFfHJiX0/PVYyM/FegsrYCr70W7FMgEZF2\nUCDpAJs338zrr38VOB64GfgF73jHSQoUIpIL6iPpKOuArcAfsXhx/0S/yL59e+npuYpgiZYtdHVd\nwb59e9VXIiJtoVFbHSBuxNbnPncZ115748S+np5PsHTpMnbvfoHDhz8ErNTILhFpiEZtzWLr1q3j\nzju3MDy8neHh7dx55xbuu++RKaO4Xn/9qxw48CqHD28GvkzcyK5OoRFoIp1FfSQdYt26dVNqFp0Y\nIOqhEWginUeBpEONjFzMAw9s4LXXgr97ezdy5ZWXce21G6fsGxnZUv0iOaQRaCKdR4GkQ5Wbu8o1\nk5GR4Ff7KaecMm2fiEiaUutsN7NbgfcAL8UttWtmBeD7wLPhrq3uXjSzpcDtwBsBB25296+FaUaB\n/wD8nzDNZ9x9LObas6qzfS7Ro2BEstNsZ3uageR04NfA7TMEkivdfX3F/uOB4939MTObD/wv4H3u\n/rSZbQJedfcbary3AkkHGx8fj9SqLlYQEWmTZgNJak1b7n6/mS2rcdq0DLv7HmBPuP1rM3sKeDPw\ndLU0MrtUDiwQkXzLcvivA6ea2S4z22lmKypPCAPRIPBQZPdlYZpbzGxBe7IqEk9DlUVSnpAYBoId\nVZq2jgb+0d0PmtmZwH9295Mix+cDJaDo7tvCfW9ksn/kGmCJu18Uc201bUnq1J8js03umrZqcfdX\nI9s/MLM/N7M+d99vZkcQPAvkW+UgEp73UnnbzL4B7Kh2/dHR0YntQqFAoVBo7QeQOU9DlaXTlUol\nSqVS4utkFkjMrJ9gRJeb2WqC2tF+MzPgFuBJd/9qRZol7v7L8M9zgMerXT8aSKS91Fku0hkqf2R/\n4QtfaOo6qQUSM7sDGAIWm9kLwCbgCAB3vwk4H7jUzA4BB4ELwqSnAR8E/sbMHg33lYf5Xmdmqwj6\nV3YDl6SVf2nOXJqZHjcptNMmgIq0gh7aKC21du153H33esrNPRA8I+yuu7ZWTZNWDaYdNSPVvmQ2\n6bg+EhFIrwbTrpqRhiqLKJBIizXa3JNWh7U6wkXaR4+Rz8hsnX8Q98j7devWzdrPKyKAu8+6V/Cx\n8mtsbMx7e/sdvunwTe/t7fexsbHU3mt4+FwfHj43tfeoJw/VPm9aZdHOMhaZLcJ7Z+P33GYS5f2V\n90AyPHxueIPz8PVNHx4+t+Xvk5ebaa3Pm1awy0MQFekkzQYS9ZHMYp3ST5BWh3XeO8I14ktmi6qB\nxMyOcff/a2Z9ccfdfX962Zrd0px/EL057dv3ckuumZTmW0w3l+bbyBxQraoC/HeCJ+0eJpj8F309\n20z1p10vcti0VSwWva9vwPv6BrxYLLak2aXyGpVNWWbzvbt7UdWmrVp5aGXTkJqZpmpX86ZII0ij\njyQMJD9p5sJZvvIWSIrFosMxEzd0OMaLxWKia8b1fwwODk27OZkd7YODQ9Nu4MVi0bu6Fs4YZPLQ\nvzJbKZBIHqUSSILrsgVY3czFs3rlLZD09Q1Mu2n09Q0kumbcjSjufWDNtBtUENgWzHgja+ZG16pa\nRxq1tbxRoJY8ajaQ1NPZvgb4oJk9D/z9ZIuY/5PkDWvSSieeeDy/+tUVHD5c3rOR4LFluyfO+dCH\nPsSWLdtb/t6tavNvxXXGx8dZv/4CXn99OQD33XcB27d/J1f9D+X5NpOd7eofkQ5WK9IAy+JezUSt\ndr3IWY2kXU1bY2NjYZPVIoc1DiPe29vvxWLRh4fP9YGBVQ5HOYyE+VkcydOxiZq2WtVU04rrDA6e\nVvHZFvvg4GkN50VkriGtGom7P5dGAJtLPve5zwFwww3XAHDllZ+a2Fep3iGh1X7Rrlu3jlNOOSXc\nv5uhocu49tobJ37hwyeBB4GvAccDNwO/oLe3Z8p7ddIv5soye/75PcCXmXxwJDz//DXZZE5kLmgm\n+uT9Rc5qJPVKo9087hc+TO9LGRwcaiq/w8Pn+uDgaT4wsHLGzvtGrtlIGcSdPzCwsiWfT2SuQTPb\nOz+QpDGSJz6QnDyl6aen57iGb/qTN/CRyLVGvKtrkQ8ODqXS2R63P+7zDQ4OeU/PcTU/XxYd8nkf\nBCBzmwKJAkmsyl/s3d2LfP78JT5//hIfGFjV9A1tMq/pDmOdrPUMeU/PAq+sqVQrs3rmyLR71FSz\n76ngI+2Su0AC3ArsBR6vcrwAvAI8Gr6uDvcvBe4FngB+AlweSdMH3A08A9wFLKhy7ZYXcDuk+QDD\nVt+I2hFIKssjqPmMTQsYzZRZFvM4mh1SrWHC0i55DCSnA4M1Asn2mP3HA6vC7fnA3wLLw7+vBz4V\nbm8EvlTl2i0t3HbqlF+f8U1brb3RxTfLnTvtJtxImZXPDebcjOQ+kGjiorRT7gJJkCeW1QgkO+q4\nxjbg98Ltp4F+nww4T1dJ07KCleqine1xs+eTig8ka5oOWNNrOMeEwaTxx8c0o5nahQKJtFMnBpIh\n4GVgF7ATWFEl/fPA/PDvA5FjFv27Il0ry3ZCmrWFTqmJpCXu81feeHt6jvPBwdNa0K8zFtZs1vj8\n+UtiO/XTak5q9HtW05a0UycGkqOBo8LtM4FnKo7PBx4Gzo7sO1Bxzv4q125dyYbSvrnM5ZtFrYWv\nWhVgg0Ay4jD5Xl1dC6ddN2+1gLn+I0Pap9lAktl6JO7+amT7B2b252bW5+77zewIYCvwLXffFkm2\n18yOd/c9ZrYEeKna9UdHRye2C4UChUIhUX7TXNujFdfO49oWM+Wp8nH31T5/K9cUGRm5mHvu+QMO\nH9488V6HD+dzjZaovK+rIp2rVCpRKpWSX6iZ6FPvi5lrJP2Ahdurged8ssnqduArMWmuBzaG25+m\njZ3taf5KTXrtLGs01X4tz/R04cr8Bo90mT4XJMmv8Gr5intCcmVZ11ueesy+zDbkrWkLuAP4BfA6\n8ALwYeAS4JLw+EcJhvc+BvwPYE24/18QrIHyGJNDg88Ij/UBPySD4b95btrKqimmWr7HxsZig0Nf\n30D4zK+VYaf5uWF/RfnZX9FO8PlVO8KbzVetY9H0g4ND3tc34IODp6U+D2WuN21KfuQukGT5SiOQ\nuOe3sz2rQFLtfYP9J087Vn6Q5NSgUR5CvNxhyGHRRAAJjo01/HlqlcdMZV3vTb2VZZ63PhmZu5oN\nJFqzvQFptlUnuXY7l7IdHx/nM5+5huef38NvfvM6QUtk+bH0bwVg3769wP8GroykvBL4NsFDIr9G\n9IGKcAWwAngK6AUWRo7fDKyfeO96+oHilhiO7iun27z55onrRfd1wjr3InmiQDILtOtJvZPrfHQT\nPF0X4HLgI8BK4HKGhj7F1q13h/tuAf4iPO8QwSC8hwlaPI8Hgjya/T/cHycIMOVrApwA/IKenk/w\n7LPLOOusP+Dw4Q8BK6uuUzI+Ps5Pf/oM8InI3k8CvzsRiPbt28sTTzzD66//J6D+NU+igWxo6J/y\nwAMbWxK8G/0hkMeBFTLHNVONyfuLDpyQmNdms6igCWZNTJPV1NnmwXnLY/pBJp+VFWyf58Gs+On9\nKXCCd3Ut9IGBFVMewAgLHU5zGKnRST4SXnfIYcQHB0+LHJv+GaKz5Kv1+1TuL6/z0s7OdvWnSJpQ\nH0nnBpI8d+RHVe/7GJrYHhhY5QMDK2L6QeLSlYNCeSGuscixvokbdXxfy/TFqqqdO309+8b7UPLS\nj5GXfMjs1GwgUdNWDtRql0/SlNHKNv+RkYv54Q//Le6fjOy9nKBf458DT/J3f3cI+G2m94NE+0vK\n3gxEm7Q+GKb5L8Awn//8lzn++DdS7iOZ9Cbgj4DbJvaMj4/z4IMPTzv36KN/zl/+5WSzX+Di8L0C\nlU1Jmrch0hgFkpxr1VrorTJ//gJeffX9BB3sewn+CZVXX7wKGAZKMSl/i8m+DwieubmQ6QHnk8A/\nAh/B/d/wy19+jKn9HRuBLcAeYLLzf9euJzl8+MNh+slr/c7v/O5EWd1zzwci69kfAr5MX99rfPvb\ntcuznQMaOiEfIlM0U43J+4tZ1LSVl8mK8U/7jesv6fPKJwIH20c5dIfHy8OA+2LSVz6evnzugsi1\ng2sODKwM8xTNx1j4d/B032hZBWu5R/tt6lu7pPz5BwdPC+eWJFu4K6lG+lM0yVEagfpIOjeQuFf/\nn74VbeKtuKFMzUdws+7ufmOV/ovKG/pYeOzksE9kTdg/cp5Hn3sFx0bOXRMGjmi/yfIwCATPzAoe\nBR+/JgqcPG21xmKx6JUTHzds2BAJkGu8q2uRF4vFKZ+9cpZ+V9fCaeck+Q7y8qRhEQWSDg8k1eTl\nhhAX0KaOhCoHghGfXsOIBpk14c18gU8+xn15GFiWhn8f63B0zLWmPnIl6NRfEwanyZFdZgvcbP6U\nc4vFYhh4yhMfo8FoZFr66Ez4uFn6XV2L6v4eisWimx3tcILDyd7TM/X6aXy/6pSXZiiQzNJA4p6P\nJoqZhsUODKzyyeG8fR79xT/ZFHVMGCAWOswLb6oD4b5oLaFcU1nuQXNYEHx6ehZ4sVicaF4aGFjl\n3d3HVrzXAu/tXeJdXcf61FFgI1NqFMF7rowEkukjygYGVkYWwIobcXbCtFFj1cotCGrRpr6+ibRp\n3fAVSKQZCiSzOJDkxUwBbcOGDWEQWB4GiD7v6+v33t43+bx5ixzeELmRHuVwYhhMFsTWPMz6wvOC\nND09x3mxWKyYUzJ16d3g+VzRG3b5EStxfTlBzSjId2VfTblWFA1Sle8bBKcNGzZ4X9+A9/UNTDR3\nRctpsl9m+nPH3NO74eelJpuHH0FSPwUSBZLMRW8axWKxynrrY+GNeeov9KkBYY3HBYqjj35LTECI\nNp2dEBswgqAU36k/+RDJyvxUnr88vP7Umk71PpfJ/pQgaFbWeFZNlFleFtFqtZlqse3sL5L6KZAo\nkORK/OTAAQ/6J6rVEOJqGZOBonrnfrm5Kq4JapF3d7/BzaKz6qc+DHJsbMx7ehZ4uRnNbGHFdUa8\nu/uNPm/ecT619jT9c8TncYFXjmKLNoslvXnWO+qs3vdo7ZMQKvvVhhI9mVnSpUCiQJIr1Wek98Xe\ngIPaRnl47/RA0dW10OfPX1RxQz7OJ0eBrfTpNZ1yp/0aX7LkLR40vU0OIe7pOW7KTSy+NhX3iPty\nv09lwAkCV/xnG/HoiLOZmq8avenX81j8em/QrX8SwvQmvWpNeerXyZ4CiQJJrlTekCZrASMe9H1M\n3vDLa7FXLoNrdmw42mmNBx3wbwhv5Cf71Dkl0Wsv9skRYMdErrXAu7vf4OUmKrPqQ3ijc0bimtPK\n66oE/SuVQea0KfvKI8bSupHXc/Nt5Abdypt53GcJvmcFkrxSIFEgyZ1g3ka5BhJtrloSvo73o49e\nOvELPDg2Fv5qX+Pz5y+J3FjKD4wc8aCJbLnDKp+6fskxYbAp//qPqxHNfJOqvPnFDf2NpisWi2Fz\n1gkORS83hZWDTVyNJ2lgaPT8pIGk8rNUE/cZK/fNFCjVtJW93AUS4FaCZ2hUW2q3ALzC5CqIV9dK\nC4wCL1KxcmLMtVtcvNKM4KY0tZYRbRqqdROZ+us1eq24mewLHTb4ZD9Jc4Fk+o10pOqSwdXTtG+R\nq7Sbtqp9X5WCSZvlh2+O1HwPdbbnUx4DyenAYI1Asr2RtMAm4Mo63rtlBSvNi6tlDAysqPsmMvWm\nNhK5qS326Y+kL4/YOsrjHtNitiDsUJ/5Zlpt4uVMN7dW/pJu9KZfHmJcXuO+3pt3PTfzycmaMwe1\nYNJmdJ5O8KQANUt1XmDMXSAJ8sSyGoFkRyNpw0AyUsf7tqhYJYlW3GArO8HLN85gMmIwyqq7+1gf\nGFgZTlRc4UuW/HYYTE708qNSisVi3aObmslzK28YaeazkbT11o6qDayY64GkE5vqOjGQDAEvA7uA\nncCKWmnDQPJcmOYWYEGVa7e0cKV5af0iq3XdJO/bCb8ikzSn1Zs2ScBp5BEys1UnDh5oNpBk+Rj5\nR4Cl7n7QzM4EtgEn1UjzdeCL4fY1wGbgorgTR0dHJ7YLhQKFQiFhdqUZaa3tUeu6Sd5X65EE6l3C\nufLR9l1dV/DFL46oDDtAqVSiVColv1Az0afeFzPUSGLO3Q301Zt2puOoRiKzXDuathrNT95rce02\nl5q2LEibDjNbRtAPsjLmWD/wkru7ma0Gvufuy2ZKa2ZL3P2X4fYVwD9z938Xc21P83OJtFKzK2Am\nWTkzSVqpX6eVs5nh7tZwurRuuGZ2B0E/yGKCobybgCMA3P0mM/socCnBUnUHCUZjPViRdhHwEvDH\n7n6bmd0OrAKcoAZzibvvjXlvBRLpCJUrYPb2bsx0BUyZ23IXSLKkQCKdYu3a87j77vVMLje8heHh\n7dx119YssyVzVLOBpCuNzIiIyNyhQCKSoZGRi+nt3QhsAbbQ27uRkZGLs85WxxgfH2ft2vNYu/Y8\nxsfHs87OnKWmLZlVOq1zEzozz3lQ2b/U1XUF73znCv7kTz6vMmyS+kgiFEjmJnVczy1x/UvwF/T2\n7tb33iT1kcict3nzzWEQ2QAEAaX8S1/mijfpe89AljPbRUSaVjmjHsp9TXuyy9QcpRqJzBrquJ5b\nyo9wGRy8ja6uEeCDwB597xlQH4kklqfO4jzlRdpH33trqLM9QoGkfdTBLTJ7KJBEKJC0j2Zmi8we\nGrUlIiKZUCBJaK7PrJ1LHdxz/bsWqUZNWwmofyAwFzo69V3LXKA+koh2BRL1D8wd+q5lLlAfiYiI\nZEIz2xOonFkb9A9syTZTkgp91yLVpblC4q3AewiW041barcAfB94Nty11d2LM6U1sz7gu8CJwHPA\n+939VzHXbtvw37nQPyABfdcy2+Wuj8TMTgd+Ddw+QyC50t3X15vWzK4H9rn79Wa2EVjo7p+OSa95\nJCIiDcpdH4m73w8cqHFabIZnSLueYJwp4X/PbjqDIiLSEll2tjtwqpntMrOdZraijjT97r433N4L\n9KeXPRERqUeWne2PAEvd/aCZnQlsA06qN7G7u5lVbb8aHR2d2C4UChQKheZzKiIyC5VKJUqlUuLr\npDqPxMyWATvi+khizt0NvMvd91dLa2ZPAwV332NmS4B73X15zLXURyIi0qDc9ZHUYmb9Zmbh9mqC\noLa/RrLtTM4I20BQixERkQylOWrrDmAIWEzQn7EJOALA3W8ys48ClwKHgIMEI7gerEi7CHgJ+GN3\nvy0c/vs94C3kZPiviMhskbvhv1lSIBERaVzHNW2JiMjsoEAiIiKJKJCIiEgiCiQiIpKIAomIiCSi\nQCIiIokokIiISCIKJCIikogCiYiIJKJAIiIiiSiQiIhIIgokIiKSiAKJiIgkokAiIiKJKJCIiEgi\nCiQiIpJIaoHEzG41s71m9niV4wUze8XMHg1fV0eOnWFmT5vZT81sY2T/qJm9GElzRlr5FxGR+nSn\neO3bgBuB22c45z53Xx/dYWbzgD8F/jXwc+DHZrbd3Z8CHLjB3W9IKc8iItKg1Gok7n4/cKDGaXFL\nOq4Gfubuz7n7b4DvAO+rkUZERDKSZR+JA6ea2S4z22lmK8L9bwZeiJz3Yriv7LIwzS1mtqBdmRUR\nkXhpNm3V8giw1N0PmtmZwDbgpBppvg58Mdy+BtgMXBR34ujo6MR2oVCgUCgkzK6IyOxSKpUolUqJ\nr2Punjw31S5utgzY4e4r6zh3N/AugmAy6u5nhPs/Axx29+vqvbaZeZqfS0RkNjIz3L3h7oPMmrbM\nrN/MLNxeTRDU9gMPA28zs2Vm1gP8PrA9PG9J5BLnALEjwkREpH1Sa9oyszuAIWCxmb0AbAKOAHD3\nm4DzgUvN7BBwELggPHbIzD4GjAPzgFvCEVsA15nZKoL+ld3AJWnlX0RE6pNq01ZW1LQlItK4jmva\nEhGR2UEp2itFAAAF+0lEQVSBREREElEgERGRRBRIREQkEQUSERFJRIFEREQSUSAREZFEFEhERCQR\nBRIREUlEgURERBJRIBERkUQUSEREJBEFEhERSUSBREREElEgERGRRFILJGZ2q5ntNbPYVQzNrGBm\nr5jZo+Hr6sixM8zsaTP7qZltjOzvM7O7zewZM7vLzBaklX8REalPmjWS24Azapxzn7sPhq8igJnN\nA/40TLsC+ICZvT08/9PA3e5+EnBP+HfHKpVKWWehLspn63RCHkH5bLVOyWezUgsk7n4/cKDGaXEr\nca0Gfubuz7n7b4DvAO8Lj60HtoTbW4CzW5HXrHTKPy7ls3U6IY+gfLZap+SzWVn2kThwqpntMrOd\nZrYi3P9m4IXIeS+G+wD63X1vuL0X6G9PVkVEpJruDN/7EWCpux80szOBbcBJMecZQdCZwt3dzLQw\nu4hIxsw9vXuxmS0Ddrj7yjrO3Q28iyCYjLr7GeH+zwCH3f06M3saKLj7HjNbAtzr7stjrqUAIyLS\nBHeP63KYUWY1EjPrB14KaxarCYLafjN7GHhbGIR+Afw+8IEw2XZgA3Bd+N9tcddupiBERKQ5qQUS\nM7sDGAIWm9kLwCbgCAB3vwk4H7jUzA4BB4ELwmOHzOxjwDgwD7jF3Z8KL/sl4HtmdhHwHPD+tPIv\nIiL1SbVpS0REZr+OntlebeJixTlfC4/vMrPBducxzMOM+ZxpcmYb8zjjBNLwnDyUZdMTXduYx6Vm\ndq+ZPWFmPzGzy6ucl2l51pPPnJTnkWb2kJk9FuZztMp5WZdnzXzmoTzDfMwL339HleONlaW7d+SL\noNnrZ8Aygiazx4C3V5xzFrAz3H438GBO81kAtmdcnqcDg8DjVY5nXpZ15jMPZXk8sCrcng/8bU7/\nbdaTz8zLM8zHUeF/u4EHgXfnrTzrzGdeyvNK4L/F5aWZsuzkGslMExfLJiYwuvtDwIKwk7+d6skn\nxE/ObBuvPYE0D2VZTz4h+7Lc4+6Phdu/Bp4C3lRxWublWWc+IePyBHD3g+FmD8EPssMVp2RenuF7\n18onZFyeZnYCQbD4RpW8NFyWnRxIZpq4ONM5J6Scr0r15LPa5Mw8yUNZ1iNXZRmOPhwEHqo4lKvy\nnCGfuShPM+sys8cIJiLf5e4/rjglF+VZRz7zUJ5fAa4iPshBE2XZyYGk3lEClRG33aML6nm/8uTM\ndwI3UmVYcw5kXZb1yE1Zmtl84K+Aj4e/+KedUvF3JuVZI5+5KE93P+zuqwhuaO82s3fEnJZ5edaR\nz0zL08zeSzDt4lFmrhk1VJadHEh+DiyN/L2UIHLOdM4J4b52qplPd3+1XCV29x8AR5hZX/uyWJc8\nlGVNeSlLMzsC2Ap8y93jbha5KM9a+cxLeUby8wpwL9MfCJuL8iyrls8clOepwPpwAvgdwL8ys9sr\nzmm4LDs5kExMXDSzHoKJi9srztkOXAhgZmuAX/nks7rapWY+zazfzCzcnpic2eZ81pKHsqwpD2UZ\nvv8twJPu/tUqp2VenvXkMyfludjCJSPMrBcYJujPicpDedbMZ9bl6e6fdfel7v5Wgrl7P3L3CytO\na7gss3zWViJeZeKimV0SHr/J3Xea2Vlm9jPg74F/n8d8UmVyZjtZjQmkeSjLevJJDsoSOA34IPA3\nZvZouO+zwFvK+cxJedbMJ/kozyXAFguWmOgCvhuWX67+X68nn+SjPKMcIGlZakKiiIgk0slNWyIi\nkgMKJCIikogCiYiIJKJAIiIiiSiQiIhIIgokIiKSiAKJSEbM7LkcPsFApGEKJCLZ0SQumRUUSETa\nwMzuNLOHwwWPPpJ1fkRaqWMfkSLSYT7s7gfCZzD9tZltzTpDIq2iQCLSHh83s7PD7ROAt2WZGZFW\nUiARSZmZFYDfA9a4+z+Y2b3AkdnmSqR11Ecikr5jgANhEHk7sCbrDIm0kgKJSPrGgG4zexL4j8D/\nDPdr1JbMCnqMvIiIJKIaiYiIJKJAIiIiiSiQiIhIIgokIiKSiAKJiIgkokAiIiKJKJCIiEgiCiQi\nIpLI/wcY26GIynWfEAAAAABJRU5ErkJggg==\n",
      "text/plain": [
       "<matplotlib.figure.Figure at 0x109ee7b50>"
=======
     "data": {
      "image/png": "iVBORw0KGgoAAAANSUhEUgAAAZEAAAERCAYAAAC6kZqPAAAABHNCSVQICAgIfAhkiAAAAAlwSFlz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\nAAAASUVORK5CYII=\n",
      "text/plain": [
       "<matplotlib.figure.Figure at 0x10913df90>"
>>>>>>> ihansel/master
      ]
     },
     "metadata": {},
     "output_type": "display_data"
    }
   ],
   "source": [
    "# scatter plot using Pandas\n",
    "glass.plot(kind='scatter', x='al', y='ri')"
   ]
  },
  {
   "cell_type": "code",
   "execution_count": 29,
   "metadata": {
    "collapsed": false
   },
   "outputs": [
    {
     "data": {
      "text/plain": [
       "<matplotlib.collections.PathCollection at 0x10b14c050>"
      ]
     },
     "execution_count": 29,
     "metadata": {},
     "output_type": "execute_result"
    },
    {
     "data": {
      "image/png": "iVBORw0KGgoAAAANSUhEUgAAAYMAAAEACAYAAABRQBpkAAAABHNCSVQICAgIfAhkiAAAAAlwSFlz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\nMDAzMxwMzMwMBwMzMwP+P3dwQj2dvK7oAAAAAElFTkSuQmCC\n",
      "text/plain": [
       "<matplotlib.figure.Figure at 0x109f7fe90>"
      ]
     },
     "metadata": {},
     "output_type": "display_data"
    }
   ],
   "source": [
    "# scatter plot using Matplotlib\n",
    "plt.scatter(glass.al, glass.ri)"
   ]
  },
  {
   "cell_type": "code",
<<<<<<< HEAD
   "execution_count": 30,
=======
   "execution_count": 7,
>>>>>>> ihansel/master
   "metadata": {
    "collapsed": false
   },
   "outputs": [
    {
     "data": {
      "text/plain": [
<<<<<<< HEAD
       "LinearRegression(copy_X=True, fit_intercept=True, n_jobs=1, normalize=False)"
      ]
     },
     "execution_count": 30,
=======
       "LinearRegression(copy_X=True, fit_intercept=True, normalize=False)"
      ]
     },
     "execution_count": 7,
>>>>>>> ihansel/master
     "metadata": {},
     "output_type": "execute_result"
    }
   ],
   "source": [
    "# fit a linear regression model\n",
    "from sklearn.linear_model import LinearRegression\n",
    "linreg = LinearRegression()\n",
    "feature_cols = ['al']\n",
    "X = glass[feature_cols]\n",
    "y = glass.ri\n",
    "linreg.fit(X, y)"
   ]
  },
  {
   "cell_type": "code",
<<<<<<< HEAD
   "execution_count": 31,
=======
   "execution_count": 8,
>>>>>>> ihansel/master
   "metadata": {
    "collapsed": false
   },
   "outputs": [
    {
     "name": "stdout",
     "output_type": "stream",
     "text": [
      "1.52194533024\n",
      "[-0.00247761]\n"
     ]
    }
   ],
   "source": [
    "# look at the coefficients to get the equation for the line, but then how do you plot the line?\n",
    "print linreg.intercept_\n",
    "print linreg.coef_"
   ]
  },
  {
   "cell_type": "code",
<<<<<<< HEAD
   "execution_count": 32,
=======
   "execution_count": 9,
>>>>>>> ihansel/master
   "metadata": {
    "collapsed": false
   },
   "outputs": [
    {
     "name": "stdout",
     "output_type": "stream",
     "text": [
      "[ 1.51946772]\n",
      "[ 1.51699012]\n",
      "[ 1.51451251]\n"
     ]
    }
   ],
   "source": [
    "# you could make predictions for arbitrary points, and then plot a line connecting them\n",
    "print linreg.predict(1)\n",
    "print linreg.predict(2)\n",
    "print linreg.predict(3)"
   ]
  },
  {
   "cell_type": "code",
<<<<<<< HEAD
   "execution_count": 33,
=======
   "execution_count": 10,
>>>>>>> ihansel/master
   "metadata": {
    "collapsed": false
   },
   "outputs": [
    {
     "data": {
      "text/plain": [
<<<<<<< HEAD
       "[<matplotlib.lines.Line2D at 0x10ee36cd0>]"
      ]
     },
     "execution_count": 33,
=======
       "[<matplotlib.lines.Line2D at 0x10da68f10>]"
      ]
     },
     "execution_count": 10,
>>>>>>> ihansel/master
     "metadata": {},
     "output_type": "execute_result"
    },
    {
     "data": {
<<<<<<< HEAD
      "image/png": "iVBORw0KGgoAAAANSUhEUgAAAYMAAAEGCAYAAACHGfl5AAAABHNCSVQICAgIfAhkiAAAAAlwSFlz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\nSUVORK5CYII=\n",
      "text/plain": [
       "<matplotlib.figure.Figure at 0x109f88b90>"
=======
      "image/png": "iVBORw0KGgoAAAANSUhEUgAAAYMAAAEHCAYAAABMRSrcAAAABHNCSVQICAgIfAhkiAAAAAlwSFlz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\n3pVKAAAAAElFTkSuQmCC\n",
      "text/plain": [
       "<matplotlib.figure.Figure at 0x10d562610>"
>>>>>>> ihansel/master
      ]
     },
     "metadata": {},
     "output_type": "display_data"
    }
   ],
   "source": [
    "# or you could make predictions for all values of X, and then plot those predictions connected by a line\n",
    "ri_pred = linreg.predict(X)\n",
    "plt.plot(glass.al, ri_pred, color='red')"
   ]
  },
  {
   "cell_type": "code",
<<<<<<< HEAD
   "execution_count": 34,
=======
   "execution_count": 11,
>>>>>>> ihansel/master
   "metadata": {
    "collapsed": false
   },
   "outputs": [
    {
     "data": {
      "text/plain": [
<<<<<<< HEAD
       "[<matplotlib.lines.Line2D at 0x10ee91f90>]"
      ]
     },
     "execution_count": 34,
=======
       "[<matplotlib.lines.Line2D at 0x10dafef90>]"
      ]
     },
     "execution_count": 11,
>>>>>>> ihansel/master
     "metadata": {},
     "output_type": "execute_result"
    },
    {
     "data": {
<<<<<<< HEAD
      "image/png": "iVBORw0KGgoAAAANSUhEUgAAAYMAAAEACAYAAABRQBpkAAAABHNCSVQICAgIfAhkiAAAAAlwSFlz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\n",
      "text/plain": [
       "<matplotlib.figure.Figure at 0x10ee91e50>"
=======
      "image/png": "iVBORw0KGgoAAAANSUhEUgAAAYIAAAECCAYAAADzStBRAAAABHNCSVQICAgIfAhkiAAAAAlwSFlz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\nQmCC\n",
      "text/plain": [
       "<matplotlib.figure.Figure at 0x10dafef10>"
>>>>>>> ihansel/master
      ]
     },
     "metadata": {},
     "output_type": "display_data"
    }
   ],
   "source": [
    "# put the plots together\n",
    "plt.scatter(glass.al, glass.ri)\n",
    "plt.plot(glass.al, ri_pred, color='red')"
   ]
  },
  {
   "cell_type": "markdown",
   "metadata": {},
   "source": [
    "### Refresher: interpreting linear regression coefficients"
   ]
  },
  {
   "cell_type": "markdown",
   "metadata": {},
   "source": [
    "Linear regression equation: $y = \\beta_0 + \\beta_1x$"
   ]
  },
  {
   "cell_type": "code",
<<<<<<< HEAD
   "execution_count": 35,
=======
   "execution_count": 12,
>>>>>>> ihansel/master
   "metadata": {
    "collapsed": false
   },
   "outputs": [
    {
     "data": {
      "text/plain": [
       "array([ 1.51699012])"
      ]
     },
<<<<<<< HEAD
     "execution_count": 35,
=======
     "execution_count": 12,
>>>>>>> ihansel/master
     "metadata": {},
     "output_type": "execute_result"
    }
   ],
   "source": [
    "# compute prediction for al=2 using the equation\n",
    "linreg.intercept_ + linreg.coef_ * 2"
   ]
  },
  {
   "cell_type": "code",
<<<<<<< HEAD
   "execution_count": 36,
=======
   "execution_count": 13,
>>>>>>> ihansel/master
   "metadata": {
    "collapsed": false
   },
   "outputs": [
    {
     "data": {
      "text/plain": [
       "array([ 1.51699012])"
      ]
     },
<<<<<<< HEAD
     "execution_count": 36,
=======
     "execution_count": 13,
>>>>>>> ihansel/master
     "metadata": {},
     "output_type": "execute_result"
    }
   ],
   "source": [
    "# compute prediction for al=2 using the predict method\n",
    "linreg.predict(2)"
   ]
  },
  {
   "cell_type": "code",
<<<<<<< HEAD
   "execution_count": 37,
=======
   "execution_count": 14,
>>>>>>> ihansel/master
   "metadata": {
    "collapsed": false
   },
   "outputs": [
    {
     "data": {
      "text/plain": [
       "[('al', -0.0024776063874696256)]"
      ]
     },
<<<<<<< HEAD
     "execution_count": 37,
=======
     "execution_count": 14,
>>>>>>> ihansel/master
     "metadata": {},
     "output_type": "execute_result"
    }
   ],
   "source": [
    "# examine coefficient for al\n",
    "zip(feature_cols, linreg.coef_)"
   ]
  },
  {
   "cell_type": "markdown",
   "metadata": {},
   "source": [
    "**Interpretation:** A 1 unit increase in 'al' is associated with a 0.0025 unit decrease in 'ri'."
   ]
  },
  {
   "cell_type": "code",
<<<<<<< HEAD
   "execution_count": 38,
=======
   "execution_count": 15,
>>>>>>> ihansel/master
   "metadata": {
    "collapsed": false
   },
   "outputs": [
    {
     "data": {
      "text/plain": [
       "1.5145125136125304"
      ]
     },
<<<<<<< HEAD
     "execution_count": 38,
=======
     "execution_count": 15,
>>>>>>> ihansel/master
     "metadata": {},
     "output_type": "execute_result"
    }
   ],
   "source": [
    "# increasing al by 1 (so that al=3) decreases ri by 0.0025\n",
    "1.51699012 - 0.0024776063874696243"
   ]
  },
  {
   "cell_type": "code",
<<<<<<< HEAD
   "execution_count": 39,
=======
   "execution_count": 16,
>>>>>>> ihansel/master
   "metadata": {
    "collapsed": false
   },
   "outputs": [
    {
     "data": {
      "text/plain": [
       "array([ 1.51451251])"
      ]
     },
<<<<<<< HEAD
     "execution_count": 39,
=======
     "execution_count": 16,
>>>>>>> ihansel/master
     "metadata": {},
     "output_type": "execute_result"
    }
   ],
   "source": [
    "# compute prediction for al=3 using the predict method\n",
    "linreg.predict(3)"
   ]
  },
  {
   "cell_type": "markdown",
   "metadata": {},
   "source": [
    "## Part 2: Predicting a Categorical Response"
   ]
  },
  {
   "cell_type": "markdown",
   "metadata": {},
   "source": [
    "Let's change our task, so that we're predicting **assorted** using **al**. Let's visualize the relationship to figure out how to do this:"
   ]
  },
  {
   "cell_type": "code",
<<<<<<< HEAD
   "execution_count": 40,
=======
   "execution_count": 17,
>>>>>>> ihansel/master
   "metadata": {
    "collapsed": false
   },
   "outputs": [
    {
     "data": {
      "text/plain": [
<<<<<<< HEAD
       "<matplotlib.collections.PathCollection at 0x10f1fef10>"
      ]
     },
     "execution_count": 40,
=======
       "<matplotlib.collections.PathCollection at 0x10de68750>"
      ]
     },
     "execution_count": 17,
>>>>>>> ihansel/master
     "metadata": {},
     "output_type": "execute_result"
    },
    {
     "data": {
<<<<<<< HEAD
      "image/png": "iVBORw0KGgoAAAANSUhEUgAAAX4AAAEACAYAAAC08h1NAAAABHNCSVQICAgIfAhkiAAAAAlwSFlz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\nhTH4JakwBr8kFcbgl6TC/H+Yf2J7oAogyAAAAABJRU5ErkJggg==\n",
      "text/plain": [
       "<matplotlib.figure.Figure at 0x10ca05ed0>"
=======
      "image/png": "iVBORw0KGgoAAAANSUhEUgAAAX0AAAECCAYAAAASDQdFAAAABHNCSVQICAgIfAhkiAAAAAlwSFlz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\nX5IyYuhLUkYMfUnKiKEvSRkx9CUpI/8fsBBxMGBjGNgAAAAASUVORK5CYII=\n",
      "text/plain": [
       "<matplotlib.figure.Figure at 0x10dc99b50>"
>>>>>>> ihansel/master
      ]
     },
     "metadata": {},
     "output_type": "display_data"
    }
   ],
   "source": [
    "plt.scatter(glass.al, glass.assorted)"
   ]
  },
  {
   "cell_type": "markdown",
   "metadata": {},
   "source": [
    "Let's draw a **regression line**, like we did before:"
   ]
  },
  {
   "cell_type": "code",
<<<<<<< HEAD
   "execution_count": 41,
=======
   "execution_count": 18,
>>>>>>> ihansel/master
   "metadata": {
    "collapsed": false
   },
   "outputs": [],
   "source": [
    "# fit a linear regression model and store the predictions\n",
    "feature_cols = ['al']\n",
    "X = glass[feature_cols]\n",
    "y = glass.assorted\n",
    "linreg.fit(X, y)\n",
    "assorted_pred = linreg.predict(X)"
   ]
  },
  {
   "cell_type": "code",
<<<<<<< HEAD
   "execution_count": 42,
=======
   "execution_count": 19,
>>>>>>> ihansel/master
   "metadata": {
    "collapsed": false
   },
   "outputs": [
    {
     "data": {
      "text/plain": [
<<<<<<< HEAD
       "[<matplotlib.lines.Line2D at 0x10f2165d0>]"
      ]
     },
     "execution_count": 42,
=======
       "[<matplotlib.lines.Line2D at 0x10df26f10>]"
      ]
     },
     "execution_count": 19,
>>>>>>> ihansel/master
     "metadata": {},
     "output_type": "execute_result"
    },
    {
     "data": {
<<<<<<< HEAD
      "image/png": "iVBORw0KGgoAAAANSUhEUgAAAX4AAAEACAYAAAC08h1NAAAABHNCSVQICAgIfAhkiAAAAAlwSFlz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\nABKGxg8ACUPjB4CEofEDQMLQ+AEgYf4fec9r1fjEIuMAAAAASUVORK5CYII=\n",
      "text/plain": [
       "<matplotlib.figure.Figure at 0x10f216590>"
=======
      "image/png": "iVBORw0KGgoAAAANSUhEUgAAAX0AAAECCAYAAAASDQdFAAAABHNCSVQICAgIfAhkiAAAAAlwSFlz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\nAElFTkSuQmCC\n",
      "text/plain": [
       "<matplotlib.figure.Figure at 0x10df26e90>"
>>>>>>> ihansel/master
      ]
     },
     "metadata": {},
     "output_type": "display_data"
    }
   ],
   "source": [
    "# scatter plot that includes the regression line\n",
    "plt.scatter(glass.al, glass.assorted)\n",
    "plt.plot(glass.al, assorted_pred, color='red')"
   ]
  },
  {
   "cell_type": "markdown",
   "metadata": {},
   "source": [
    "If **al=3**, what class do we predict for assorted? **1**\n",
    "\n",
    "If **al=1.5**, what class do we predict for assorted? **0**\n",
    "\n",
    "So, we predict the 0 class for **lower** values of al, and the 1 class for **higher** values of al. What's our cutoff value? Around **al=2**, because that's where the linear regression line crosses the midpoint between predicting class 0 and class 1.\n",
    "\n",
    "So, we'll say that if **assorted_pred >= 0.5**, we predict a class of **1**, else we predict a class of **0**."
   ]
  },
  {
   "cell_type": "code",
<<<<<<< HEAD
   "execution_count": 43,
=======
   "execution_count": 20,
>>>>>>> ihansel/master
   "metadata": {
    "collapsed": false
   },
   "outputs": [],
   "source": [
    "# understanding np.where\n",
    "import numpy as np\n",
    "nums = np.array([5, 15, 8])"
   ]
  },
  {
   "cell_type": "code",
<<<<<<< HEAD
   "execution_count": 44,
=======
   "execution_count": 21,
>>>>>>> ihansel/master
   "metadata": {
    "collapsed": false
   },
   "outputs": [
    {
     "data": {
      "text/plain": [
       "array(['small', 'big', 'small'], \n",
       "      dtype='|S5')"
      ]
     },
<<<<<<< HEAD
     "execution_count": 44,
=======
     "execution_count": 21,
>>>>>>> ihansel/master
     "metadata": {},
     "output_type": "execute_result"
    }
   ],
   "source": [
    "# np.where returns the first value if the condition is True, and the second value if the condition is False\n",
    "np.where(nums > 10, 'big', 'small')"
   ]
  },
  {
   "cell_type": "code",
<<<<<<< HEAD
   "execution_count": 45,
=======
   "execution_count": 22,
>>>>>>> ihansel/master
   "metadata": {
    "collapsed": false
   },
   "outputs": [
    {
     "data": {
      "text/plain": [
       "array([ 0.06545853,  0.19576455,  0.28597641,  0.16068216,  0.13562331,\n",
       "        0.32607057,  0.08550561,  0.04039968,  0.20077632,  0.19576455])"
      ]
     },
<<<<<<< HEAD
     "execution_count": 45,
=======
     "execution_count": 22,
>>>>>>> ihansel/master
     "metadata": {},
     "output_type": "execute_result"
    }
   ],
   "source": [
    "# examine the predictions\n",
    "assorted_pred[:10]"
   ]
  },
  {
   "cell_type": "code",
<<<<<<< HEAD
   "execution_count": 46,
=======
   "execution_count": 23,
>>>>>>> ihansel/master
   "metadata": {
    "collapsed": false
   },
   "outputs": [
    {
     "data": {
      "text/plain": [
       "array([0, 0, 0, 0, 0, 0, 0, 0, 0, 0, 0, 0, 0, 0, 0, 0, 0, 0, 0, 0, 0, 0, 0,\n",
       "       0, 0, 0, 0, 0, 0, 0, 0, 0, 0, 0, 0, 0, 0, 0, 0, 0, 0, 0, 0, 0, 0, 0,\n",
       "       0, 0, 0, 0, 0, 0, 0, 0, 0, 0, 0, 0, 0, 0, 0, 0, 0, 0, 0, 0, 0, 0, 0,\n",
       "       0, 0, 0, 0, 0, 0, 0, 0, 0, 0, 0, 1, 0, 0, 0, 1, 0, 0, 0, 0, 0, 0, 0,\n",
       "       0, 0, 0, 0, 0, 0, 0, 0, 0, 0, 0, 0, 0, 0, 1, 0, 0, 0, 0, 0, 0, 0, 0,\n",
       "       0, 0, 0, 0, 0, 0, 0, 0, 0, 0, 0, 0, 0, 0, 0, 0, 0, 0, 0, 0, 0, 0, 0,\n",
       "       0, 0, 0, 0, 0, 0, 0, 0, 0, 0, 0, 0, 0, 0, 0, 0, 0, 0, 0, 0, 0, 0, 0,\n",
       "       0, 0, 1, 0, 0, 0, 0, 0, 0, 0, 1, 1, 0, 1, 0, 0, 0, 0, 0, 0, 0, 1, 0,\n",
       "       0, 0, 1, 0, 1, 0, 0, 1, 1, 1, 1, 1, 1, 1, 1, 1, 1, 0, 1, 1, 1, 0, 0,\n",
       "       0, 1, 1, 1, 1, 0, 1])"
      ]
     },
<<<<<<< HEAD
     "execution_count": 46,
=======
     "execution_count": 23,
>>>>>>> ihansel/master
     "metadata": {},
     "output_type": "execute_result"
    }
   ],
   "source": [
    "# transform predictions to 1 or 0\n",
    "assorted_pred_class = np.where(assorted_pred >= 0.5, 1, 0)\n",
    "assorted_pred_class"
   ]
  },
  {
   "cell_type": "code",
<<<<<<< HEAD
   "execution_count": 47,
=======
   "execution_count": 24,
>>>>>>> ihansel/master
   "metadata": {
    "collapsed": false
   },
   "outputs": [
    {
     "data": {
      "text/plain": [
<<<<<<< HEAD
       "[<matplotlib.lines.Line2D at 0x10f348750>]"
      ]
     },
     "execution_count": 47,
=======
       "[<matplotlib.lines.Line2D at 0x10decb150>]"
      ]
     },
     "execution_count": 24,
>>>>>>> ihansel/master
     "metadata": {},
     "output_type": "execute_result"
    },
    {
     "data": {
<<<<<<< HEAD
      "image/png": "iVBORw0KGgoAAAANSUhEUgAAAX4AAAEACAYAAAC08h1NAAAABHNCSVQICAgIfAhkiAAAAAlwSFlz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\nMP5+AAAAAElFTkSuQmCC\n",
      "text/plain": [
       "<matplotlib.figure.Figure at 0x10f348050>"
=======
      "image/png": "iVBORw0KGgoAAAANSUhEUgAAAX0AAAECCAYAAAASDQdFAAAABHNCSVQICAgIfAhkiAAAAAlwSFlz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\nYII=\n",
      "text/plain": [
       "<matplotlib.figure.Figure at 0x10decb7d0>"
>>>>>>> ihansel/master
      ]
     },
     "metadata": {},
     "output_type": "display_data"
    }
   ],
   "source": [
    "# plot the class predictions\n",
    "plt.scatter(glass.al, glass.assorted)\n",
    "plt.plot(glass.al, assorted_pred_class, color='red')"
   ]
  },
  {
   "cell_type": "markdown",
   "metadata": {},
   "source": [
    "What went wrong? This is a line plot, and it connects points in the order they are found. Let's sort the DataFrame by \"al\" to fix this:"
   ]
  },
  {
   "cell_type": "code",
<<<<<<< HEAD
   "execution_count": 48,
=======
   "execution_count": 25,
>>>>>>> ihansel/master
   "metadata": {
    "collapsed": false
   },
   "outputs": [
    {
     "name": "stderr",
     "output_type": "stream",
     "text": [
<<<<<<< HEAD
      "/Users/adrian/anaconda/lib/python2.7/site-packages/ipykernel/__main__.py:5: FutureWarning: sort(columns=....) is deprecated, use sort_values(by=.....)\n"
=======
      "/Users/ianhansel/anaconda/lib/python2.7/site-packages/IPython/kernel/__main__.py:5: FutureWarning: sort(columns=....) is deprecated, use sort_values(by=.....)\n"
>>>>>>> ihansel/master
     ]
    }
   ],
   "source": [
    "# add predicted class to DataFrame\n",
    "glass['assorted_pred_class'] = assorted_pred_class\n",
    "\n",
    "# sort DataFrame by al\n",
    "glass.sort('al', inplace=True)"
   ]
  },
  {
   "cell_type": "code",
<<<<<<< HEAD
   "execution_count": 49,
=======
   "execution_count": 26,
>>>>>>> ihansel/master
   "metadata": {
    "collapsed": false
   },
   "outputs": [
    {
     "data": {
      "text/plain": [
<<<<<<< HEAD
       "[<matplotlib.lines.Line2D at 0x10f482e90>]"
      ]
     },
     "execution_count": 49,
=======
       "[<matplotlib.lines.Line2D at 0x10e1ef890>]"
      ]
     },
     "execution_count": 26,
>>>>>>> ihansel/master
     "metadata": {},
     "output_type": "execute_result"
    },
    {
     "data": {
<<<<<<< HEAD
      "image/png": "iVBORw0KGgoAAAANSUhEUgAAAX4AAAEACAYAAAC08h1NAAAABHNCSVQICAgIfAhkiAAAAAlwSFlz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\n",
      "text/plain": [
       "<matplotlib.figure.Figure at 0x10f482cd0>"
=======
      "image/png": "iVBORw0KGgoAAAANSUhEUgAAAX0AAAECCAYAAAASDQdFAAAABHNCSVQICAgIfAhkiAAAAAlwSFlz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\nRK5CYII=\n",
      "text/plain": [
       "<matplotlib.figure.Figure at 0x10e1ef210>"
>>>>>>> ihansel/master
      ]
     },
     "metadata": {},
     "output_type": "display_data"
    }
   ],
   "source": [
    "# plot the class predictions again\n",
    "plt.scatter(glass.al, glass.assorted)\n",
    "plt.plot(glass.al, glass.assorted_pred_class, color='red')"
   ]
  },
  {
   "cell_type": "markdown",
   "metadata": {},
   "source": [
    "## Part 3: Using Logistic Regression Instead\n",
    "\n",
    "Logistic regression can do what we just did:"
   ]
  },
  {
   "cell_type": "code",
<<<<<<< HEAD
   "execution_count": 50,
=======
   "execution_count": 27,
>>>>>>> ihansel/master
   "metadata": {
    "collapsed": false
   },
   "outputs": [],
   "source": [
    "# fit a linear regression model and store the class predictions\n",
    "from sklearn.linear_model import LogisticRegression\n",
    "logreg = LogisticRegression(C=1e9)\n",
    "feature_cols = ['al']\n",
    "X = glass[feature_cols]\n",
    "y = glass.assorted\n",
    "logreg.fit(X, y)\n",
    "assorted_pred_class = logreg.predict(X)"
   ]
  },
  {
   "cell_type": "code",
<<<<<<< HEAD
   "execution_count": 51,
=======
   "execution_count": 28,
>>>>>>> ihansel/master
   "metadata": {
    "collapsed": false
   },
   "outputs": [
    {
     "data": {
      "text/plain": [
       "array([0, 0, 0, 0, 0, 0, 0, 0, 0, 0, 0, 0, 0, 0, 0, 0, 0, 0, 0, 0, 0, 0, 0,\n",
       "       0, 0, 0, 0, 0, 0, 0, 0, 0, 0, 0, 0, 0, 0, 0, 0, 0, 0, 0, 0, 0, 0, 0,\n",
       "       0, 0, 0, 0, 0, 0, 0, 0, 0, 0, 0, 0, 0, 0, 0, 0, 0, 0, 0, 0, 0, 0, 0,\n",
       "       0, 0, 0, 0, 0, 0, 0, 0, 0, 0, 0, 0, 0, 0, 0, 0, 0, 0, 0, 0, 0, 0, 0,\n",
       "       0, 0, 0, 0, 0, 0, 0, 0, 0, 0, 0, 0, 0, 0, 0, 0, 0, 0, 0, 0, 0, 0, 0,\n",
       "       0, 0, 0, 0, 0, 0, 0, 0, 0, 0, 0, 0, 0, 0, 0, 0, 0, 0, 0, 0, 0, 0, 0,\n",
       "       0, 0, 0, 0, 0, 0, 0, 0, 0, 0, 0, 0, 0, 0, 0, 0, 0, 0, 0, 0, 0, 0, 0,\n",
       "       0, 0, 0, 0, 0, 0, 0, 0, 0, 0, 0, 0, 0, 0, 0, 0, 0, 0, 0, 1, 1, 1, 1,\n",
       "       1, 1, 1, 1, 1, 1, 1, 1, 1, 1, 1, 1, 1, 1, 1, 1, 1, 1, 1, 1, 1, 1, 1,\n",
       "       1, 1, 1, 1, 1, 1, 1])"
      ]
     },
<<<<<<< HEAD
     "execution_count": 51,
=======
     "execution_count": 28,
>>>>>>> ihansel/master
     "metadata": {},
     "output_type": "execute_result"
    }
   ],
   "source": [
    "# print the class predictions\n",
    "assorted_pred_class"
   ]
  },
  {
   "cell_type": "code",
<<<<<<< HEAD
   "execution_count": 52,
=======
   "execution_count": 29,
>>>>>>> ihansel/master
   "metadata": {
    "collapsed": false
   },
   "outputs": [
    {
     "data": {
      "text/plain": [
<<<<<<< HEAD
       "[<matplotlib.lines.Line2D at 0x10f5b8f90>]"
      ]
     },
     "execution_count": 52,
=======
       "[<matplotlib.lines.Line2D at 0x10e365f50>]"
      ]
     },
     "execution_count": 29,
>>>>>>> ihansel/master
     "metadata": {},
     "output_type": "execute_result"
    },
    {
     "data": {
<<<<<<< HEAD
      "image/png": "iVBORw0KGgoAAAANSUhEUgAAAX4AAAEACAYAAAC08h1NAAAABHNCSVQICAgIfAhkiAAAAAlwSFlz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\nUmEMfkkqjMEvSYUx+CWpMAa/JBXm/wNxKcJyxgUM4QAAAABJRU5ErkJggg==\n",
      "text/plain": [
       "<matplotlib.figure.Figure at 0x10f5b8e50>"
=======
      "image/png": "iVBORw0KGgoAAAANSUhEUgAAAX0AAAECCAYAAAASDQdFAAAABHNCSVQICAgIfAhkiAAAAAlwSFlz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\n",
      "text/plain": [
       "<matplotlib.figure.Figure at 0x10e365a50>"
>>>>>>> ihansel/master
      ]
     },
     "metadata": {},
     "output_type": "display_data"
    }
   ],
   "source": [
    "# plot the class predictions\n",
    "plt.scatter(glass.al, glass.assorted)\n",
    "plt.plot(glass.al, assorted_pred_class, color='red')"
   ]
  },
  {
   "cell_type": "markdown",
   "metadata": {},
   "source": [
    "What if we wanted the **predicted probabilities** instead of just the **class predictions**, to understand how confident we are in a given prediction?"
   ]
  },
  {
   "cell_type": "code",
<<<<<<< HEAD
   "execution_count": 53,
=======
   "execution_count": 30,
>>>>>>> ihansel/master
   "metadata": {
    "collapsed": false
   },
   "outputs": [],
   "source": [
    "# store the predicted probabilites of class 1\n",
    "assorted_pred_prob = logreg.predict_proba(X)[:, 1]"
   ]
  },
  {
   "cell_type": "code",
<<<<<<< HEAD
   "execution_count": 54,
=======
   "execution_count": 31,
>>>>>>> ihansel/master
   "metadata": {
    "collapsed": false
   },
   "outputs": [
    {
     "data": {
      "text/plain": [
<<<<<<< HEAD
       "[<matplotlib.lines.Line2D at 0x10f81ea90>]"
      ]
     },
     "execution_count": 54,
=======
       "[<matplotlib.lines.Line2D at 0x10e608350>]"
      ]
     },
     "execution_count": 31,
>>>>>>> ihansel/master
     "metadata": {},
     "output_type": "execute_result"
    },
    {
     "data": {
<<<<<<< HEAD
      "image/png": "iVBORw0KGgoAAAANSUhEUgAAAX4AAAEACAYAAAC08h1NAAAABHNCSVQICAgIfAhkiAAAAAlwSFlz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\n",
      "text/plain": [
       "<matplotlib.figure.Figure at 0x10f81ec50>"
=======
      "image/png": "iVBORw0KGgoAAAANSUhEUgAAAX0AAAECCAYAAAASDQdFAAAABHNCSVQICAgIfAhkiAAAAAlwSFlz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\nrkJggg==\n",
      "text/plain": [
       "<matplotlib.figure.Figure at 0x10e6082d0>"
>>>>>>> ihansel/master
      ]
     },
     "metadata": {},
     "output_type": "display_data"
    }
   ],
   "source": [
    "# plot the predicted probabilities\n",
    "plt.scatter(glass.al, glass.assorted)\n",
    "plt.plot(glass.al, assorted_pred_prob, color='red')"
   ]
  },
  {
   "cell_type": "code",
<<<<<<< HEAD
   "execution_count": 55,
=======
   "execution_count": 32,
>>>>>>> ihansel/master
   "metadata": {
    "collapsed": false
   },
   "outputs": [
    {
     "name": "stdout",
     "output_type": "stream",
     "text": [
      "[[ 0.97161726  0.02838274]]\n",
      "[[ 0.34361555  0.65638445]]\n",
      "[[ 0.00794192  0.99205808]]\n"
     ]
    }
   ],
   "source": [
    "# examine some example predictions\n",
    "print logreg.predict_proba(1)\n",
    "print logreg.predict_proba(2)\n",
    "print logreg.predict_proba(3)"
   ]
  },
  {
   "cell_type": "markdown",
   "metadata": {},
   "source": [
    "What is this? The first column indicates the predicted probability of **class 0**, and the second column indicates the predicted probability of **class 1**."
   ]
  },
  {
   "cell_type": "markdown",
   "metadata": {},
   "source": [
    "## Part 4: Probability, odds, e, log, log-odds\n",
    "\n",
    "$$probability = \\frac {one\\ outcome} {all\\ outcomes}$$\n",
    "\n",
    "$$odds = \\frac {one\\ outcome} {all\\ other\\ outcomes}$$\n",
    "\n",
    "Examples:\n",
    "\n",
    "- Dice roll of 1: probability = 1/6, odds = 1/5\n",
    "- Even dice roll: probability = 3/6, odds = 3/3 = 1\n",
    "- Dice roll less than 5: probability = 4/6, odds = 4/2 = 2\n",
    "\n",
    "$$odds = \\frac {probability} {1 - probability}$$"
   ]
  },
  {
   "cell_type": "code",
<<<<<<< HEAD
   "execution_count": 56,
=======
   "execution_count": 34,
>>>>>>> ihansel/master
   "metadata": {
    "collapsed": false
   },
   "outputs": [
    {
     "data": {
      "text/html": [
       "<div>\n",
       "<table border=\"1\" class=\"dataframe\">\n",
       "  <thead>\n",
       "    <tr style=\"text-align: right;\">\n",
       "      <th></th>\n",
       "      <th>probability</th>\n",
       "      <th>odds</th>\n",
       "    </tr>\n",
       "  </thead>\n",
       "  <tbody>\n",
       "    <tr>\n",
       "      <th>0</th>\n",
       "      <td>0.10</td>\n",
       "      <td>0.111111</td>\n",
       "    </tr>\n",
       "    <tr>\n",
       "      <th>1</th>\n",
       "      <td>0.20</td>\n",
       "      <td>0.250000</td>\n",
       "    </tr>\n",
       "    <tr>\n",
       "      <th>2</th>\n",
       "      <td>0.25</td>\n",
       "      <td>0.333333</td>\n",
       "    </tr>\n",
       "    <tr>\n",
       "      <th>3</th>\n",
       "      <td>0.50</td>\n",
       "      <td>1.000000</td>\n",
       "    </tr>\n",
       "    <tr>\n",
       "      <th>4</th>\n",
       "      <td>0.60</td>\n",
       "      <td>1.500000</td>\n",
       "    </tr>\n",
       "    <tr>\n",
       "      <th>5</th>\n",
       "      <td>0.80</td>\n",
       "      <td>4.000000</td>\n",
       "    </tr>\n",
       "    <tr>\n",
       "      <th>6</th>\n",
       "      <td>0.90</td>\n",
       "      <td>9.000000</td>\n",
       "    </tr>\n",
<<<<<<< HEAD
=======
       "    <tr>\n",
       "      <th>7</th>\n",
       "      <td>0.99</td>\n",
       "      <td>99.000000</td>\n",
       "    </tr>\n",
>>>>>>> ihansel/master
       "  </tbody>\n",
       "</table>\n",
       "</div>"
      ],
      "text/plain": [
<<<<<<< HEAD
       "   probability      odds\n",
       "0         0.10  0.111111\n",
       "1         0.20  0.250000\n",
       "2         0.25  0.333333\n",
       "3         0.50  1.000000\n",
       "4         0.60  1.500000\n",
       "5         0.80  4.000000\n",
       "6         0.90  9.000000"
      ]
     },
     "execution_count": 56,
=======
       "   probability       odds\n",
       "0         0.10   0.111111\n",
       "1         0.20   0.250000\n",
       "2         0.25   0.333333\n",
       "3         0.50   1.000000\n",
       "4         0.60   1.500000\n",
       "5         0.80   4.000000\n",
       "6         0.90   9.000000\n",
       "7         0.99  99.000000"
      ]
     },
     "execution_count": 34,
>>>>>>> ihansel/master
     "metadata": {},
     "output_type": "execute_result"
    }
   ],
   "source": [
    "# create a table of probability versus odds\n",
    "table = pd.DataFrame({'probability':[0.1, 0.2, 0.25, 0.5, 0.6, 0.8, 0.9, 0.99]})\n",
    "table['odds'] = table.probability/(1 - table.probability)\n",
    "table"
   ]
  },
  {
   "cell_type": "markdown",
   "metadata": {},
   "source": [
    "What is **e**? It is the base rate of growth shared by all continually growing processes:"
   ]
  },
  {
   "cell_type": "code",
<<<<<<< HEAD
   "execution_count": 57,
=======
   "execution_count": 35,
>>>>>>> ihansel/master
   "metadata": {
    "collapsed": false
   },
   "outputs": [
    {
     "data": {
      "text/plain": [
       "2.7182818284590451"
      ]
     },
<<<<<<< HEAD
     "execution_count": 57,
=======
     "execution_count": 35,
>>>>>>> ihansel/master
     "metadata": {},
     "output_type": "execute_result"
    }
   ],
   "source": [
    "# exponential function: e^1\n",
    "np.exp(1)"
   ]
  },
  {
   "cell_type": "markdown",
   "metadata": {},
   "source": [
    "What is a **(natural) log**? It gives you the time needed to reach a certain level of growth:"
   ]
  },
  {
   "cell_type": "code",
<<<<<<< HEAD
   "execution_count": 58,
=======
   "execution_count": 36,
>>>>>>> ihansel/master
   "metadata": {
    "collapsed": false
   },
   "outputs": [
    {
     "data": {
      "text/plain": [
       "0.99989631572895199"
      ]
     },
<<<<<<< HEAD
     "execution_count": 58,
=======
     "execution_count": 36,
>>>>>>> ihansel/master
     "metadata": {},
     "output_type": "execute_result"
    }
   ],
   "source": [
    "# time needed to grow 1 unit to 2.718 units\n",
    "np.log(2.718)"
   ]
  },
  {
   "cell_type": "markdown",
   "metadata": {},
   "source": [
    "It is also the **inverse** of the exponential function:"
   ]
  },
  {
   "cell_type": "code",
<<<<<<< HEAD
   "execution_count": 59,
=======
   "execution_count": 37,
>>>>>>> ihansel/master
   "metadata": {
    "collapsed": false
   },
   "outputs": [
    {
     "data": {
      "text/plain": [
       "5.0"
      ]
     },
<<<<<<< HEAD
     "execution_count": 59,
=======
     "execution_count": 37,
>>>>>>> ihansel/master
     "metadata": {},
     "output_type": "execute_result"
    }
   ],
   "source": [
    "np.log(np.exp(5))"
   ]
  },
  {
   "cell_type": "code",
<<<<<<< HEAD
   "execution_count": 60,
=======
   "execution_count": 38,
>>>>>>> ihansel/master
   "metadata": {
    "collapsed": false
   },
   "outputs": [
    {
     "data": {
      "text/html": [
       "<div>\n",
       "<table border=\"1\" class=\"dataframe\">\n",
       "  <thead>\n",
       "    <tr style=\"text-align: right;\">\n",
       "      <th></th>\n",
       "      <th>probability</th>\n",
       "      <th>odds</th>\n",
       "      <th>logodds</th>\n",
       "    </tr>\n",
       "  </thead>\n",
       "  <tbody>\n",
       "    <tr>\n",
       "      <th>0</th>\n",
       "      <td>0.10</td>\n",
       "      <td>0.111111</td>\n",
       "      <td>-2.197225</td>\n",
       "    </tr>\n",
       "    <tr>\n",
       "      <th>1</th>\n",
       "      <td>0.20</td>\n",
       "      <td>0.250000</td>\n",
       "      <td>-1.386294</td>\n",
       "    </tr>\n",
       "    <tr>\n",
       "      <th>2</th>\n",
       "      <td>0.25</td>\n",
       "      <td>0.333333</td>\n",
       "      <td>-1.098612</td>\n",
       "    </tr>\n",
       "    <tr>\n",
       "      <th>3</th>\n",
       "      <td>0.50</td>\n",
       "      <td>1.000000</td>\n",
       "      <td>0.000000</td>\n",
       "    </tr>\n",
       "    <tr>\n",
       "      <th>4</th>\n",
       "      <td>0.60</td>\n",
       "      <td>1.500000</td>\n",
       "      <td>0.405465</td>\n",
       "    </tr>\n",
       "    <tr>\n",
       "      <th>5</th>\n",
       "      <td>0.80</td>\n",
       "      <td>4.000000</td>\n",
       "      <td>1.386294</td>\n",
       "    </tr>\n",
       "    <tr>\n",
       "      <th>6</th>\n",
       "      <td>0.90</td>\n",
       "      <td>9.000000</td>\n",
       "      <td>2.197225</td>\n",
       "    </tr>\n",
<<<<<<< HEAD
=======
       "    <tr>\n",
       "      <th>7</th>\n",
       "      <td>0.99</td>\n",
       "      <td>99.000000</td>\n",
       "      <td>4.595120</td>\n",
       "    </tr>\n",
>>>>>>> ihansel/master
       "  </tbody>\n",
       "</table>\n",
       "</div>"
      ],
      "text/plain": [
<<<<<<< HEAD
       "   probability      odds   logodds\n",
       "0         0.10  0.111111 -2.197225\n",
       "1         0.20  0.250000 -1.386294\n",
       "2         0.25  0.333333 -1.098612\n",
       "3         0.50  1.000000  0.000000\n",
       "4         0.60  1.500000  0.405465\n",
       "5         0.80  4.000000  1.386294\n",
       "6         0.90  9.000000  2.197225"
      ]
     },
     "execution_count": 60,
=======
       "   probability       odds   logodds\n",
       "0         0.10   0.111111 -2.197225\n",
       "1         0.20   0.250000 -1.386294\n",
       "2         0.25   0.333333 -1.098612\n",
       "3         0.50   1.000000  0.000000\n",
       "4         0.60   1.500000  0.405465\n",
       "5         0.80   4.000000  1.386294\n",
       "6         0.90   9.000000  2.197225\n",
       "7         0.99  99.000000  4.595120"
      ]
     },
     "execution_count": 38,
>>>>>>> ihansel/master
     "metadata": {},
     "output_type": "execute_result"
    }
   ],
   "source": [
    "# add log-odds to the table\n",
    "table['logodds'] = np.log(table.odds)\n",
    "table"
   ]
  },
  {
   "cell_type": "markdown",
   "metadata": {},
   "source": [
    "## Part 5: What is Logistic Regression?"
   ]
  },
  {
   "cell_type": "markdown",
   "metadata": {},
   "source": [
    "**Linear regression:** continuous response is modeled as a linear combination of the features:\n",
    "\n",
    "$$y = \\beta_0 + \\beta_1x$$\n",
    "\n",
    "**Logistic regression:** log-odds of a categorical response being \"true\" (1) is modeled as a linear combination of the features:\n",
    "\n",
    "$$\\log \\left({p\\over 1-p}\\right) = \\beta_0 + \\beta_1x$$\n",
    "\n",
    "This is called the **logit function**.\n",
    "\n",
    "Probability is sometimes written as pi:\n",
    "\n",
    "$$\\log \\left({\\pi\\over 1-\\pi}\\right) = \\beta_0 + \\beta_1x$$\n",
    "\n",
    "The equation can be rearranged into the **logistic function**:\n",
    "\n",
    "$$\\pi = \\frac{e^{\\beta_0 + \\beta_1x}} {1 + e^{\\beta_0 + \\beta_1x}}$$"
   ]
  },
  {
   "cell_type": "markdown",
   "metadata": {},
   "source": [
    "In other words:\n",
    "\n",
    "- Logistic regression outputs the **probabilities of a specific class**\n",
    "- Those probabilities can be converted into **class predictions**\n",
    "\n",
    "The **logistic function** has some nice properties:\n",
    "\n",
    "- Takes on an \"s\" shape\n",
    "- Output is bounded by 0 and 1\n",
    "\n",
    "Notes:\n",
    "\n",
    "- **Multinomial logistic regression** is used when there are more than 2 classes.\n",
    "- Coefficients are estimated using **maximum likelihood estimation**, meaning that we choose parameters that maximize the likelihood of the observed data."
   ]
  },
  {
   "cell_type": "markdown",
   "metadata": {},
   "source": [
    "## Part 6: Interpreting Logistic Regression Coefficients"
   ]
  },
  {
   "cell_type": "code",
<<<<<<< HEAD
   "execution_count": 61,
=======
   "execution_count": 39,
>>>>>>> ihansel/master
   "metadata": {
    "collapsed": false
   },
   "outputs": [
    {
     "data": {
      "text/plain": [
<<<<<<< HEAD
       "[<matplotlib.lines.Line2D at 0x10f8eee50>]"
      ]
     },
     "execution_count": 61,
=======
       "[<matplotlib.lines.Line2D at 0x10e450d50>]"
      ]
     },
     "execution_count": 39,
>>>>>>> ihansel/master
     "metadata": {},
     "output_type": "execute_result"
    },
    {
     "data": {
<<<<<<< HEAD
      "image/png": "iVBORw0KGgoAAAANSUhEUgAAAX4AAAEACAYAAAC08h1NAAAABHNCSVQICAgIfAhkiAAAAAlwSFlz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\n",
      "text/plain": [
       "<matplotlib.figure.Figure at 0x10f8eef50>"
=======
      "image/png": "iVBORw0KGgoAAAANSUhEUgAAAX0AAAECCAYAAAASDQdFAAAABHNCSVQICAgIfAhkiAAAAAlwSFlz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\nrkJggg==\n",
      "text/plain": [
       "<matplotlib.figure.Figure at 0x10e770b10>"
>>>>>>> ihansel/master
      ]
     },
     "metadata": {},
     "output_type": "display_data"
    }
   ],
   "source": [
    "# plot the predicted probabilities again\n",
    "plt.scatter(glass.al, glass.assorted)\n",
    "plt.plot(glass.al, assorted_pred_prob, color='red')"
   ]
  },
  {
   "cell_type": "code",
<<<<<<< HEAD
   "execution_count": 62,
=======
   "execution_count": 40,
>>>>>>> ihansel/master
   "metadata": {
    "collapsed": false
   },
   "outputs": [
    {
     "data": {
      "text/plain": [
       "array([[ 0.64722323]])"
      ]
     },
<<<<<<< HEAD
     "execution_count": 62,
=======
     "execution_count": 40,
>>>>>>> ihansel/master
     "metadata": {},
     "output_type": "execute_result"
    }
   ],
   "source": [
    "# compute predicted log-odds for al=2 using the equation\n",
    "logodds = logreg.intercept_ + logreg.coef_ * 2\n",
    "logodds"
   ]
  },
  {
   "cell_type": "code",
<<<<<<< HEAD
   "execution_count": 63,
=======
   "execution_count": 41,
>>>>>>> ihansel/master
   "metadata": {
    "collapsed": false
   },
   "outputs": [
    {
     "data": {
      "text/plain": [
       "array([[ 1.91022919]])"
      ]
     },
<<<<<<< HEAD
     "execution_count": 63,
=======
     "execution_count": 41,
>>>>>>> ihansel/master
     "metadata": {},
     "output_type": "execute_result"
    }
   ],
   "source": [
    "# convert log-odds to odds\n",
    "odds = np.exp(logodds)\n",
    "odds"
   ]
  },
  {
   "cell_type": "code",
<<<<<<< HEAD
   "execution_count": 64,
=======
   "execution_count": 42,
>>>>>>> ihansel/master
   "metadata": {
    "collapsed": false
   },
   "outputs": [
    {
     "data": {
      "text/plain": [
       "array([[ 0.65638445]])"
      ]
     },
<<<<<<< HEAD
     "execution_count": 64,
=======
     "execution_count": 42,
>>>>>>> ihansel/master
     "metadata": {},
     "output_type": "execute_result"
    }
   ],
   "source": [
    "# convert odds to probability\n",
    "prob = odds/(1 + odds)\n",
    "prob"
   ]
  },
  {
   "cell_type": "code",
<<<<<<< HEAD
   "execution_count": 65,
=======
   "execution_count": 43,
>>>>>>> ihansel/master
   "metadata": {
    "collapsed": false
   },
   "outputs": [
    {
     "data": {
      "text/plain": [
       "array([ 0.65638445])"
      ]
     },
<<<<<<< HEAD
     "execution_count": 65,
=======
     "execution_count": 43,
>>>>>>> ihansel/master
     "metadata": {},
     "output_type": "execute_result"
    }
   ],
   "source": [
    "# compute predicted probability for al=2 using the predict_proba method\n",
    "logreg.predict_proba(2)[:, 1]"
   ]
  },
  {
   "cell_type": "code",
<<<<<<< HEAD
   "execution_count": 66,
=======
   "execution_count": 44,
>>>>>>> ihansel/master
   "metadata": {
    "collapsed": false
   },
   "outputs": [
    {
     "data": {
      "text/plain": [
       "[('al', 4.1804038614510901)]"
      ]
     },
<<<<<<< HEAD
     "execution_count": 66,
=======
     "execution_count": 44,
>>>>>>> ihansel/master
     "metadata": {},
     "output_type": "execute_result"
    }
   ],
   "source": [
    "# examine the coefficient for al\n",
    "zip(feature_cols, logreg.coef_[0])"
   ]
  },
  {
   "cell_type": "markdown",
   "metadata": {},
   "source": [
    "**Interpretation:** A 1 unit increase in 'al' is associated with a 4.18 unit increase in the log-odds of 'assorted'."
   ]
  },
  {
   "cell_type": "code",
<<<<<<< HEAD
   "execution_count": 67,
=======
   "execution_count": 45,
>>>>>>> ihansel/master
   "metadata": {
    "collapsed": false
   },
   "outputs": [
    {
     "data": {
      "text/plain": [
       "0.99205808391674566"
      ]
     },
<<<<<<< HEAD
     "execution_count": 67,
=======
     "execution_count": 45,
>>>>>>> ihansel/master
     "metadata": {},
     "output_type": "execute_result"
    }
   ],
   "source": [
    "# increasing al by 1 (so that al=3) increases the log-odds by 4.18\n",
    "logodds = 0.64722323 + 4.1804038614510901\n",
    "odds = np.exp(logodds)\n",
    "prob = odds/(1 + odds)\n",
    "prob"
   ]
  },
  {
   "cell_type": "code",
<<<<<<< HEAD
   "execution_count": 68,
=======
   "execution_count": 46,
>>>>>>> ihansel/master
   "metadata": {
    "collapsed": false
   },
   "outputs": [
    {
     "data": {
      "text/plain": [
       "array([ 0.99205808])"
      ]
     },
<<<<<<< HEAD
     "execution_count": 68,
=======
     "execution_count": 46,
>>>>>>> ihansel/master
     "metadata": {},
     "output_type": "execute_result"
    }
   ],
   "source": [
    "# compute predicted probability for al=3 using the predict_proba method\n",
    "logreg.predict_proba(3)[:, 1]"
   ]
  },
  {
   "cell_type": "markdown",
   "metadata": {},
   "source": [
    "**Bottom line:** Positive coefficients increase the log-odds of the response (and thus increase the probability), and negative coefficients decrease the log-odds of the response (and thus decrease the probability)."
   ]
  },
  {
   "cell_type": "code",
<<<<<<< HEAD
   "execution_count": 69,
=======
   "execution_count": 47,
>>>>>>> ihansel/master
   "metadata": {
    "collapsed": false
   },
   "outputs": [
    {
     "data": {
      "text/plain": [
       "array([-7.71358449])"
      ]
     },
<<<<<<< HEAD
     "execution_count": 69,
=======
     "execution_count": 47,
>>>>>>> ihansel/master
     "metadata": {},
     "output_type": "execute_result"
    }
   ],
   "source": [
    "# examine the intercept\n",
    "logreg.intercept_"
   ]
  },
  {
   "cell_type": "markdown",
   "metadata": {},
   "source": [
    "**Interpretation:** For an 'al' value of 0, the log-odds of 'assorted' is -7.71."
   ]
  },
  {
   "cell_type": "code",
<<<<<<< HEAD
   "execution_count": 70,
=======
   "execution_count": 48,
>>>>>>> ihansel/master
   "metadata": {
    "collapsed": false
   },
   "outputs": [
    {
     "data": {
      "text/plain": [
       "array([ 0.00044652])"
      ]
     },
<<<<<<< HEAD
     "execution_count": 70,
=======
     "execution_count": 48,
>>>>>>> ihansel/master
     "metadata": {},
     "output_type": "execute_result"
    }
   ],
   "source": [
    "# convert log-odds to probability\n",
    "logodds = logreg.intercept_\n",
    "odds = np.exp(logodds)\n",
    "prob = odds/(1 + odds)\n",
    "prob\n",
    "\n"
   ]
  },
  {
   "cell_type": "markdown",
   "metadata": {},
   "source": [
    "That makes sense from the plot above, because the probability of assorted=1 should be very low for such a low 'al' value."
   ]
  },
  {
   "cell_type": "markdown",
   "metadata": {},
   "source": [
    "![](images/logistic_betas.png)"
   ]
  },
  {
   "cell_type": "markdown",
   "metadata": {},
   "source": [
    "Changing the $\\beta_0$ value shifts the curve **horizontally**, whereas changing the $\\beta_1$ value changes the **slope** of the curve."
   ]
  },
  {
   "cell_type": "markdown",
   "metadata": {},
   "source": [
    "## Part 7: Comparing Logistic Regression with Other Models\n",
    "\n",
    "Advantages of logistic regression:\n",
    "\n",
    "- Highly interpretable (if you remember how)\n",
    "- Model training and prediction are fast\n",
    "- No tuning is required (excluding regularization)\n",
    "- Features don't need scaling\n",
    "- Can perform well with a small number of observations\n",
    "- Outputs well-calibrated predicted probabilities\n",
    "\n",
    "Disadvantages of logistic regression:\n",
    "\n",
    "- Presumes a linear relationship between the features and the log-odds of the response\n",
    "- Performance is (generally) not competitive with the best supervised learning methods\n",
    "- Sensitive to irrelevant features\n",
    "- Can't automatically learn feature interactions"
   ]
  },
  {
   "cell_type": "markdown",
   "metadata": {},
   "source": [
    "## Bonus: Confusion Matrix\n",
    "\n"
   ]
  },
  {
   "cell_type": "code",
   "execution_count": null,
   "metadata": {
    "collapsed": false
   },
   "outputs": [],
   "source": [
    "from sklearn import metrics\n",
    "prds = logreg.predict(X)\n",
    "print metrics.confusion_matrix(y, preds)\n"
   ]
  },
  {
   "cell_type": "markdown",
   "metadata": {},
   "source": [
    "##Top Left: True Negatives <Br>\n",
    "##Top Right False Negatives <Br>\n",
    "##Bottom Left: False Negatives <br>\n",
    "##Bottom Right: True Positives <br>\n",
    "\n",
    "\n",
    "### Meaning: \n",
    "#### Accuracy    = (157 + 28) / 214       == .8644\n",
    "#### Sensitivity =  28        / (23 + 28) == .5490\n",
    "#### Specificity =  157       / (157 + 6) == .9631"
   ]
  },
  {
   "cell_type": "code",
   "execution_count": null,
   "metadata": {
    "collapsed": false
   },
   "outputs": [],
   "source": []
  }
 ],
 "metadata": {
  "kernelspec": {
   "display_name": "Python 2",
   "language": "python",
   "name": "python2"
  },
  "language_info": {
   "codemirror_mode": {
    "name": "ipython",
    "version": 2
   },
   "file_extension": ".py",
   "mimetype": "text/x-python",
   "name": "python",
   "nbconvert_exporter": "python",
   "pygments_lexer": "ipython2",
   "version": "2.7.11"
  }
 },
 "nbformat": 4,
 "nbformat_minor": 0
}
