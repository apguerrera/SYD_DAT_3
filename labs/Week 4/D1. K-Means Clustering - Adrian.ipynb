








<!DOCTYPE html>
<html lang="en">

<head>
  <meta charset="utf-8">
  <title>Jupyter Notebook Viewer</title>
  <meta name="viewport" content="width=device-width, initial-scale=1.0">
  <meta name="description" content="">
  <meta name="author" content="">
  
  <meta name="robots" content="noindex,nofollow">
  

  <!--NEW RELIC Start Perf Measurement-->
  
  <!--NREND-->

  <!-- Le styles -->
  <link href="/static/build/styles.css" rel="stylesheet">

  <!-- Le HTML5 shim, for IE6-8 support of HTML5 elements -->
  <!--[if lt IE 9]>
    <script src="http://html5shim.googlecode.com/svn/trunk/html5.js"></script>
  <![endif]-->

  <!-- Le fav and touch icons -->
  <link rel="shortcut icon" href="/static/ico/ipynb_icon_16x16.png">
  <link rel="apple-touch-icon-precomposed" sizes="144x144"
        href="/static/ico/apple-touch-icon-144-precomposed.png">
  <link rel="apple-touch-icon-precomposed" sizes="114x114"
        href="/static/ico/apple-touch-icon-114-precomposed.png">
  <link rel="apple-touch-icon-precomposed" sizes="72x72"
        href="/static/ico/apple-touch-icon-72-precomposed.png">
  <link rel="apple-touch-icon-precomposed"
        href="/static/ico/apple-touch-icon-57-precomposed.png">
  
  

  

  
  <meta name="twitter:card" content="summary">
  <meta name="twitter:title" content="Notebook on nbviewer">
  <meta name="twitter:description" content="Check out this Jupyter notebook!">

  
  <meta name="twitter:domain" content="nbviewer.ipython.org">
  <meta name="twitter:image:src" content="http://ipython.org/ipython-doc/dev/_images/ipynb_icon_128x128.png">

  
    <link href="/static/build/notebook.css" rel="stylesheet">
  

  

  
    <script src="https://cdn.mathjax.org/mathjax/latest/MathJax.js?config=TeX-AMS_HTML" type="text/javascript">
    </script>
    <script type="text/javascript">
      init_mathjax = function() {
        if (window.MathJax) {
          // MathJax loaded
          MathJax.Hub.Config({
            TeX: {
              equationNumbers: {
                autoNumber: "AMS",
                useLabelIds: true
              }
            },
            tex2jax: {
              inlineMath: [ ['$','$'], ["\\(","\\)"] ],
              displayMath: [ ['$$','$$'], ["\\[","\\]"] ],
              processEscapes: true,
              processEnvironments: true
            },
            displayAlign: 'center',
            "HTML-CSS": {
              styles: {'.MathJax_Display': {"margin": 0}},
              linebreaks: { automatic: true }
            }
          });
          MathJax.Hub.Queue(["Typeset", MathJax.Hub]);
        }
      }
      init_mathjax();
    </script>
  

</head>

<body>

  <!-- These are loaded at the top of the body so they are available to
       notebook cells when they are loaded below. -->
  <script src="/static/components/jquery/dist/jquery.min.js"></script>
  <script src="/static/components/requirejs/require.js"></script>
  <script src="/static/components/moment/min/moment.min.js"></script>

<!-- Navbar
================================================== -->
  <nav id="menubar" class="navbar navbar-default navbar-fixed-top" data-spy="affix">
    <div class="container">
      <div class="navbar-header">
        <button type="button" class="navbar-toggle collapsed" data-toggle="collapse" data-target=".navbar-collapse">
          <span class="sr-only">Toggle navigation</span>
          <i class="fa fa-bars"></i>
        </button>
        <a class="navbar-brand" href="/">
          <img src="/static/img/nav_logo.svg" width="159"/>
        </a>
      </div>

      <div class="collapse navbar-collapse">
        <ul class="nav navbar-nav navbar-right">
          <li>
            <a class="active" href="http://jupyter.org">JUPYTER</a>
          </li>
          <li>
    <a href="/faq" title="FAQ" >
      
        <span>FAQ</span>
      
    </a>
  </li>

          
  
    
  

  
    <li>
    <a href="#" title="Python 2 Kernel" >
      <span class="fa fa-server fa-2x menu-icon"></span>
      <span class="menu-text">Python 2 Kernel</span>
    </a>
  </li>
  

  
    <li>
    <a href="https://github.com/nborwankar/LearnDataScience/blob/master/notebooks/D1.%20K-Means%20Clustering%20-%20Overview.ipynb" title="View on GitHub" >
      <span class="fa fa-github fa-2x menu-icon"></span>
      <span class="menu-text">View on GitHub</span>
    </a>
  </li>
  

  <li>
    <a href="https://raw.githubusercontent.com/nborwankar/LearnDataScience/master/notebooks/D1.%20K-Means%20Clustering%20-%20Overview.ipynb" title="Download Notebook" download>
      <span class="fa fa-download fa-2x menu-icon"></span>
      <span class="menu-text">Download Notebook</span>
    </a>
  </li>

        </ul>
      </div><!-- /.navbar-collapse -->
      
      
    </div>
  </nav>

  <div class="container container-main">
    
  
  <ol class="breadcrumb">
    
      <li>
        <a href="/github/nborwankar/LearnDataScience/tree/master">LearnDataScience</a>
      </li>
    
      <li>
        <a href="/github/nborwankar/LearnDataScience/tree/master/notebooks">notebooks</a>
      </li>
    
  </ol>
  
  <div id="notebook">
    <div id="notebook-container">
      
<div class="cell border-box-sizing text_cell rendered">
<div class="prompt input_prompt">
</div>
<div class="inner_cell">
<div class="text_cell_render border-box-sizing rendered_html">
<h1 id="K-Means-Clustering---Overview">K-Means Clustering - Overview<a class="anchor-link" href="#K-Means-Clustering---Overview">&#182;</a></h1><h2 id="How-do-I-discover-natural-groupings-or-segments-in-my-data?">How do I discover natural groupings or segments in my data?<a class="anchor-link" href="#How-do-I-discover-natural-groupings-or-segments-in-my-data?">&#182;</a></h2><h3 id="Introduction">Introduction<a class="anchor-link" href="#Introduction">&#182;</a></h3><p>Often we are given a large mass of data with no training labels.  That is, the data does not tell us what a "good" data item is and what a "bad" one is. So we have no prior idea what to look for.  In cases like these,  where we want to bootstrap our data exploration, to find some hook, some insight to get started,  looking for similar items or "clusters" is a well known approach.</p>
<p>Clustering techniques operate on the attributes of our data and find "clumps" of data items that have attribute values that are close. One of the most common clustering techniques is "K-Means Clustering" which is simple to understand but powerful in impact.  It is also "computationally hard" from a theoretical point of view, i.e. as simple as it looks it can be demanding of computational resources and take time to converge to a solution.</p>
<h3 id="Supervised-and-unsupervised-learning">Supervised and unsupervised learning<a class="anchor-link" href="#Supervised-and-unsupervised-learning">&#182;</a></h3><p>K-Means Clustering is one of the many techniques that constitute "unsupervised learning".
Before this we've looked at data that had some examples of good data and some of bad, or some examples of data that was classified in category A other in B, C, D and so on.  That is, we could learn from examples.  This mode of learning from examples is called "supervised learning" because you are given some prior training ("supervision") of how to proceed.   Most often in supervised learning one creates a model that fits the training data and then uses the model to predict over an unknown data set.</p>
<p>Quite often no such prior knowledge (training data) exists and we are just given a data set and told - "go extract some insights".  This mode, where we have to find patterns in data without guidance of prior knowledge, is called "unsupervised learning". There is no "supervision" in the form of examples of good classification.  So we have to dive in and dig out <em>some</em> nugget(s) of wisdom, no matter what, to get started.</p>
<p>K-Means Clustering is our "power excavator" to clear out the ""data underbrush" and <em>then</em> lay the foundation of our grand data analysis edifice.</p>
<h3 id="What-is-it-and-how-does-it-work?">What is it and how does it work?<a class="anchor-link" href="#What-is-it-and-how-does-it-work?">&#182;</a></h3><p>What is K-Means Clustering?  First of all the name - it is called so because it operates by computing the "mean" of some attributes. That "mean" then becomes the center of one cluster. There are a small number, K, of such clusters. That is, the technique consists of computing "K number of means" leading to "clustering" of the data, around these "K means".</p>
<p>How do we choose this K?  If we have some idea of what we are looking for or how many clsuters we expect or want, then we set K to be that number before we start the engines and let the algorithm rev along.</p>
<p>If we don't know how many there are then our exploration will take a little longer and involve some trial and error as we try say K=3,4,5 until we see that the clusters are making some sense to us in our domain.</p>
<p>The K-Means algorithm is iterative. It starts by choosing K points at random from the data and use these as "cluster centers" just to get started. Then it at each step it decides which cluster to assign a point to based on which cluster center is closest.</p>
<p>Once that is done it we have a new arrangement of points and so the "center" or "mean" of the cluster" is computed again because it will have most probably shifted.   When does it not shift?  When we have a stable clustering. That is when we have iterated till we get no benefit from iterating further then that is our result.</p>
<p>There are conditions under which K-Means does not converge i.e. there are no stable clusters but we won't get into that here.</p>

</div>
</div>
</div>
<div class="cell border-box-sizing text_cell rendered">
<div class="prompt input_prompt">
</div>
<div class="inner_cell">
<div class="text_cell_render border-box-sizing rendered_html">
<h3 id="A-simple-example">A simple example<a class="anchor-link" href="#A-simple-example">&#182;</a></h3><p>Let's look at a well known public data set the 'iris' data set and see how irises cluster according to their properties.  This is just an example and we'll do this with a real world data set a little later.  There are three species named 'setosa'(in blue), 'virginica'(in green) and 'versicolor'(in red) represented in the scatter plot below.</p>
<p>We are looking at two distinguishing characteristics, Sepal Length and Petal Length and plotting these.</p>

</div>
</div>
</div>
<div class="cell border-box-sizing code_cell rendered">
<div class="input">
<div class="prompt input_prompt">In&nbsp;[1]:</div>
<div class="inner_cell">
    <div class="input_area">
<div class=" highlight hl-ipython2"><pre><span class="o">%</span><span class="k">pylab</span> inline
<span class="kn">import</span> <span class="nn">pandas</span> <span class="kn">as</span> <span class="nn">pd</span>
<span class="kn">import</span> <span class="nn">matplotlib.pylab</span> <span class="kn">as</span> <span class="nn">plt</span>

<span class="n">df</span> <span class="o">=</span> <span class="n">pd</span><span class="o">.</span><span class="n">read_csv</span><span class="p">(</span><span class="s">&#39;../datasets/iris.csv&#39;</span><span class="p">)</span>

<span class="n">setosa</span> <span class="o">=</span> <span class="n">df</span><span class="p">[</span><span class="n">df</span><span class="o">.</span><span class="n">Species</span><span class="o">==</span><span class="s">&#39;Iris-setosa&#39;</span><span class="p">]</span>
<span class="n">versicolor</span> <span class="o">=</span> <span class="n">df</span><span class="p">[</span><span class="n">df</span><span class="o">.</span><span class="n">Species</span><span class="o">==</span><span class="s">&#39;Iris-versicolor&#39;</span><span class="p">]</span>
<span class="n">virginica</span> <span class="o">=</span> <span class="n">df</span><span class="p">[</span><span class="n">df</span><span class="o">.</span><span class="n">Species</span><span class="o">==</span><span class="s">&#39;Iris-virginica&#39;</span><span class="p">]</span>

<span class="n">s</span> <span class="o">=</span> <span class="n">plot</span><span class="p">(</span><span class="n">setosa</span><span class="p">[</span><span class="s">&#39;SepalLength&#39;</span><span class="p">],</span><span class="n">setosa</span><span class="p">[</span><span class="s">&#39;PetalLength&#39;</span><span class="p">],</span><span class="s">&#39;bo&#39;</span><span class="p">)</span>
<span class="n">vi</span> <span class="o">=</span> <span class="n">plot</span><span class="p">(</span><span class="n">virginica</span><span class="p">[</span><span class="s">&#39;SepalLength&#39;</span><span class="p">],</span><span class="n">virginica</span><span class="p">[</span><span class="s">&#39;PetalLength&#39;</span><span class="p">],</span><span class="s">&#39;go&#39;</span><span class="p">)</span>
<span class="n">ve</span> <span class="o">=</span> <span class="n">plot</span><span class="p">(</span><span class="n">versicolor</span><span class="p">[</span><span class="s">&#39;SepalLength&#39;</span><span class="p">],</span><span class="n">versicolor</span><span class="p">[</span><span class="s">&#39;PetalLength&#39;</span><span class="p">],</span><span class="s">&#39;ro&#39;</span><span class="p">)</span>
<span class="n">lx</span> <span class="o">=</span> <span class="n">ve</span><span class="p">[</span><span class="mi">0</span><span class="p">]</span><span class="o">.</span><span class="n">axes</span><span class="o">.</span><span class="n">set_xlabel</span><span class="p">(</span><span class="s">&#39;Sepal Length&#39;</span><span class="p">)</span>
<span class="n">ly</span> <span class="o">=</span> <span class="n">ve</span><span class="p">[</span><span class="mi">0</span><span class="p">]</span><span class="o">.</span><span class="n">axes</span><span class="o">.</span><span class="n">set_ylabel</span><span class="p">(</span><span class="s">&#39;Petal Length&#39;</span><span class="p">)</span>
</pre></div>

</div>
</div>
</div>

<div class="output_wrapper">
<div class="output">


<div class="output_area"><div class="prompt"></div>
<div class="output_subarea output_stream output_stdout output_text">
<pre>Populating the interactive namespace from numpy and matplotlib
</pre>
</div>
</div>

<div class="output_area"><div class="prompt"></div>


<div class="output_png output_subarea ">
<img src="data:image/png;base64,iVBORw0KGgoAAAANSUhEUgAAAXwAAAEPCAYAAABBUX+lAAAABHNCSVQICAgIfAhkiAAAAAlwSFlz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"
>
</div>

</div>

</div>
</div>

</div>
<div class="cell border-box-sizing text_cell rendered">
<div class="prompt input_prompt">
</div>
<div class="inner_cell">
<div class="text_cell_render border-box-sizing rendered_html">
<p>Here we see how data points cluster together when they have similarities.  We use this as an illustration because we knew beforehand that the data had three species of iris, and naturally we expect that their properties will be similar so they will show up as clusters.  But when we don't know in advance what the underlying data set looks like - we need to be able to explore and look for such clusters, although we may not know of these beforehand. Secondly, the data might cluster according to some properties but not according to others.</p>

</div>
</div>
</div>
<div class="cell border-box-sizing text_cell rendered">
<div class="prompt input_prompt">
</div>
<div class="inner_cell">
<div class="text_cell_render border-box-sizing rendered_html">
<h3 id="Exercise">Exercise<a class="anchor-link" href="#Exercise">&#182;</a></h3><p>Look up the Iris Data set, which is well known in data science circles as a toy example data set.  Then run the above code segment on different attributes than Petal Length and Sepal Length.</p>
<p>How does the clustering vary?</p>
<p>Can you see how picking the variables on which to cluster is an exploratory exercise and there is no a-priori set that stands out automatically or algorithmically?</p>
<p>Does domain knowledge, i.e. knowing what flowers are and knowing their characteristics, help in picking the attributes on which to cluster?</p>

</div>
</div>
</div>
<div class="cell border-box-sizing text_cell rendered">
<div class="prompt input_prompt">
</div>
<div class="inner_cell">
<div class="text_cell_render border-box-sizing rendered_html">
<h3 id="Applications">Applications<a class="anchor-link" href="#Applications">&#182;</a></h3><p>So how does K-Means Clustering help us in understanding our data better and where is it most useful?</p>
<p>First of all, we know this technique is useful in initial exploration of data when we have no training samples. But that's too general.</p>
<p>More specifically here are a few examples of usage but these are not the only ones and certainly not the most definitive ones.</p>
<ul>
<li><p>Disambiguation of terms in a text corpus - how do we know if "jaguar" refers to a car or an animal?  The other words "near" jaguar can tell us, i.e. if the words in the same cluster as jaguar are "leopard","habitat","prey"  vs "mileage","f type", "luxury" we know what the word refers to in this context. Or more importantly whether the document in which this term occurs is about cars or animals.  So document clustering is the overall application area.</p>
</li>
<li><p>Customer demographics.  Clustering customer data can tell us whether there are patterns in purchasing and then we can drill down into the clusters by building predictive models inside each cluster e.g. using multivariate linear regression</p>
</li>
<li><p>Political categories like the famous "soccer moms" coud be discovered using K-Means clustering.</p>
</li>
</ul>
<p>But once again, this technique is used for initial exploration when training samples are not available.</p>
<p>We are going to apply K-Means to a data set from the UN on economic and demographic data for different countries, and use some well known techniques to find a "good" K to use.</p>

</div>
</div>
</div>
<div class="cell border-box-sizing code_cell rendered">
<div class="input">
<div class="prompt input_prompt">In&nbsp;[6]:</div>
<div class="inner_cell">
    <div class="input_area">
<div class=" highlight hl-ipython2"><pre><span class="kn">from</span> <span class="nn">IPython.core.display</span> <span class="kn">import</span> <span class="n">HTML</span>
<span class="k">def</span> <span class="nf">css_styling</span><span class="p">():</span>
    <span class="n">styles</span> <span class="o">=</span> <span class="nb">open</span><span class="p">(</span><span class="s">&quot;../styles/custom.css&quot;</span><span class="p">,</span> <span class="s">&quot;r&quot;</span><span class="p">)</span><span class="o">.</span><span class="n">read</span><span class="p">()</span>
    <span class="k">return</span> <span class="n">HTML</span><span class="p">(</span><span class="n">styles</span><span class="p">)</span>
<span class="n">css_styling</span><span class="p">()</span>
</pre></div>

</div>
</div>
</div>

<div class="output_wrapper">
<div class="output">


<div class="output_area"><div class="prompt output_prompt">Out[6]:</div>

<div class="output_html rendered_html output_subarea output_execute_result">
<style>
    @font-face {
        font-family: "Computer Modern";
        src: url('http://mirrors.ctan.org/fonts/cm-unicode/fonts/otf/cmunss.otf');
    }
    div.cell{
        width:800px;
        margin-left:auto;
        margin-right:auto;
    }
    h1 {
        font-family: "Charis SIL", Palatino, serif;
    }
    h4{
        margin-top:12px;
        margin-bottom: 3px;
       }
    div.text_cell_render{
        font-family: Computer Modern, "Helvetica Neue", Arial, Helvetica, Geneva, sans-serif;
        line-height: 145%;
        font-size: 120%;
        width:800px;
        margin-left:auto;
        margin-right:auto;
    }
    .CodeMirror{
            font-family: "Source Code Pro", source-code-pro,Consolas, monospace;
    }
    .prompt{
        display: None;
    }
    .text_cell_render h5 {
        font-weight: 300;
        font-size: 16pt;
        color: #4057A1;
        font-style: italic;
        margin-bottom: .5em;
        margin-top: 0.5em;
        display: block;
    }
    
    .warning{
        color: rgb( 240, 20, 20 )
        }
</style>
<script>
    MathJax.Hub.Config({
                        TeX: {
                           extensions: ["AMSmath.js"]
                           },
                tex2jax: {
                    inlineMath: [ ['$','$'], ["\\(","\\)"] ],
                    displayMath: [ ['$$','$$'], ["\\[","\\]"] ]
                },
                displayAlign: 'center', // Change this to 'center' to center equations.
                "HTML-CSS": {
                    styles: {'.MathJax_Display': {"margin": 4}}
                }
        });
</script>
</div>

</div>

</div>
</div>

</div>
    </div>
  </div>

  </div>


  
    <footer class="footer hidden-print">
      <div class="container">
        <div class="col-md-4">
          <p>
            This web site does not host notebooks, it only renders notebooks
            available on other websites.
          </p>
        </div>

        <div class="col-md-4">
          <p>
            Delivered by <a href="http://www.fastly.com/">Fastly</a>,
            Rendered by <a href="https://developer.rackspace.com/?nbviewer=awesome">Rackspace</a>
          </p>
          <p>
            nbviewer GitHub <a href="https://github.com/jupyter/nbviewer">repository</a>.
          </p>
        </div>

        <div class="col-md-4">
          
  
            
              <p>
                nbviewer version:
                <a href="https://github.com/jupyter/nbviewer/commit/ac73c706cc7f4b0194b1267545598d0826162723">
                  ac73c70
                </a>
              </p>
            
          
  
  <p>
    notebook version: <a href="https://github.com/jupyter/notebook/releases/tag/4.0.6">
      4.0.6
    </a>
  </p>
  <p>
    nbconvert version: <a href="https://github.com/jupyter/nbconvert/releases/tag/4.1.0">
      4.1.0
    </a>
  </p>
  

          
  
  
  <p>
    Rendered
    <span class='date' data-date='Wed, 13 Jan 2016 05:57:16 UTC' title='Wed, 13 Jan 2016 05:57:16 UTC'>(Wed, 13 Jan 2016 05:57:16 UTC)</span>
  </p>
  

        </div>
      </div>
    </footer>
  

  <script src="/static/components/bootstrap/js/bootstrap.min.js"></script>
  <script src="/static/components/headroom.js/dist/headroom.min.js"></script>
  <script src="/static/components/headroom.js/dist/jQuery.headroom.min.js"></script>

  
  
  <script>
    $(function(){ $("#menubar").headroom({
      tolerance: 5,
      offset: 205,
      classes: {
        initial: "animated",
        pinned: "slideInDown",
        unpinned: "slideOutUp"
      }
    })});
  </script>


  <script>
    (function(i,s,o,g,r,a,m){i['GoogleAnalyticsObject']=r;i[r]=i[r]||function(){
      (i[r].q=i[r].q||[]).push(arguments)},i[r].l=1*new Date();a=s.createElement(o),
      m=s.getElementsByTagName(o)[0];a.async=1;a.src=g;m.parentNode.insertBefore(a,m)
    })(window,document,'script','//www.google-analytics.com/analytics.js','ga');
    ga('create', 'UA-38683231-2', 'auto');
    ga('send', 'pageview');
  </script>
  <script>
    require({
        paths: {
          moment: "/static/components/moment/min/moment.min.js"
        }
      }, ["moment"], function(moment){
      var date = $("footer .date"),
        m = moment(new Date(date.data('date'))),
        update = function(){ date.text(m.fromNow()); };
      setInterval(update, 61*1000);
      update();
      var w = $(window).scroll(function(event){
        $("body").toggleClass("scrolled", w.scrollTop() > 0);
      });
    });
  </script>
  <!--NEW RELIC Stop Perf Measurement-->
  
  <!--NEW RELIC End-->
</body>
</html>